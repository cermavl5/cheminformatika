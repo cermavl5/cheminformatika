{
  "nbformat": 4,
  "nbformat_minor": 0,
  "metadata": {
    "colab": {
      "provenance": [],
      "include_colab_link": true
    },
    "kernelspec": {
      "name": "python3",
      "display_name": "Python 3"
    },
    "language_info": {
      "name": "python"
    }
  },
  "cells": [
    {
      "cell_type": "markdown",
      "metadata": {
        "id": "view-in-github",
        "colab_type": "text"
      },
      "source": [
        "<a href=\"https://colab.research.google.com/github/cermavl5/cheminformatika/blob/main/QSAR_LS23.ipynb\" target=\"_parent\"><img src=\"https://colab.research.google.com/assets/colab-badge.svg\" alt=\"Open In Colab\"/></a>"
      ]
    },
    {
      "cell_type": "code",
      "metadata": {
        "id": "es0ZVxjCcY7M",
        "colab": {
          "base_uri": "https://localhost:8080/"
        },
        "outputId": "426f2211-33d7-4edf-d656-5239453a704e"
      },
      "source": [
        "!pip install -q condacolab\n",
        "import condacolab\n",
        "condacolab.install()\n",
        "!conda install -c rdkit rdkit"
      ],
      "execution_count": null,
      "outputs": [
        {
          "output_type": "stream",
          "name": "stdout",
          "text": [
            "⏬ Downloading https://github.com/jaimergp/miniforge/releases/latest/download/Mambaforge-colab-Linux-x86_64.sh...\n",
            "📦 Installing...\n",
            "📌 Adjusting configuration...\n",
            "🩹 Patching environment...\n",
            "⏲ Done in 0:00:40\n",
            "🔁 Restarting kernel...\n",
            "Collecting package metadata (current_repodata.json): - \b\b\\ \b\b| \b\b/ \b\b- \b\b\\ \b\b| \b\b/ \b\b- \b\b\\ \b\b| \b\b/ \b\b- \b\b\\ \b\b| \b\b/ \b\b- \b\b\\ \b\b| \b\b/ \b\b- \b\b\\ \b\b| \b\b/ \b\b- \b\b\\ \b\b| \b\b/ \b\b- \b\b\\ \b\b| \b\b/ \b\b- \b\b\\ \b\b| \b\b/ \b\b- \b\b\\ \b\b| \b\b/ \b\b- \b\b\\ \b\b| \b\b/ \b\b- \b\b\\ \b\b| \b\b/ \b\b- \b\b\\ \b\b| \b\b/ \b\b- \b\b\\ \b\b| \b\b/ \b\b- \b\b\\ \b\b| \b\b/ \b\b- \b\b\\ \b\b| \b\b/ \b\b- \b\b\\ \b\b| \b\b/ \b\b- \b\b\\ \b\b| \b\b/ \b\b- \b\b\\ \b\b| \b\b/ \b\b- \b\b\\ \b\b| \b\b/ \b\b- \b\b\\ \b\b| \b\b/ \b\b- \b\b\\ \b\b| \b\bdone\n",
            "Solving environment: - \b\b\\ \b\b| \b\b/ \b\b- \b\b\\ \b\b| \b\b/ \b\b- \b\b\\ \b\b| \b\b/ \b\b- \b\b\\ \b\b| \b\b/ \b\b- \b\b\\ \b\b| \b\b/ \b\b- \b\b\\ \b\b| \b\b/ \b\b- \b\b\\ \b\b| \b\b/ \b\b- \b\b\\ \b\b| \b\b/ \b\b- \b\b\\ \b\b| \b\b/ \b\b- \b\b\\ \b\b| \b\b/ \b\b- \b\b\\ \b\b| \b\b/ \b\b- \b\b\\ \b\b| \b\b/ \b\b- \b\b\\ \b\b| \b\b/ \b\b- \b\b\\ \b\b| \b\b/ \b\b- \b\b\\ \b\b| \b\b/ \b\b- \b\b\\ \b\b| \b\b/ \b\b- \b\b\\ \b\b| \b\b/ \b\b- \b\b\\ \b\b| \b\b/ \b\b- \b\b\\ \b\bdone\n",
            "\n",
            "## Package Plan ##\n",
            "\n",
            "  environment location: /usr/local\n",
            "\n",
            "  added / updated specs:\n",
            "    - rdkit\n",
            "\n",
            "\n",
            "The following packages will be downloaded:\n",
            "\n",
            "    package                    |            build\n",
            "    ---------------------------|-----------------\n",
            "    boost-1.74.0               |   py37h796e4cb_5         342 KB  conda-forge\n",
            "    boost-cpp-1.74.0           |       hc6e9bd1_3        16.3 MB  conda-forge\n",
            "    brotli-1.0.9               |       h166bdaf_7          18 KB  conda-forge\n",
            "    brotli-bin-1.0.9           |       h166bdaf_7          19 KB  conda-forge\n",
            "    ca-certificates-2021.10.8  |       ha878542_0         139 KB  conda-forge\n",
            "    cairo-1.16.0               |    h6cf1ce9_1008         1.5 MB  conda-forge\n",
            "    certifi-2021.10.8          |   py37h89c1867_2         145 KB  conda-forge\n",
            "    cffi-1.15.0                |   py37h036bc23_0         225 KB  conda-forge\n",
            "    conda-4.12.0               |   py37h89c1867_0         1.0 MB  conda-forge\n",
            "    cycler-0.11.0              |     pyhd8ed1ab_0          10 KB  conda-forge\n",
            "    expat-2.4.8                |       h27087fc_0         187 KB  conda-forge\n",
            "    fontconfig-2.14.0          |       h8e229c2_0         305 KB  conda-forge\n",
            "    fonttools-4.32.0           |   py37h540881e_0         1.6 MB  conda-forge\n",
            "    freetype-2.10.4            |       h0708190_1         890 KB  conda-forge\n",
            "    gettext-0.19.8.1           |    h73d1719_1008         3.6 MB  conda-forge\n",
            "    greenlet-1.1.2             |   py37hd23a5d3_2          90 KB  conda-forge\n",
            "    importlib-metadata-4.11.3  |   py37h89c1867_1          33 KB  conda-forge\n",
            "    jpeg-9e                    |       h7f98852_0         269 KB  conda-forge\n",
            "    kiwisolver-1.4.2           |   py37h7cecad7_1          73 KB  conda-forge\n",
            "    libblas-3.9.0              |14_linux64_openblas          12 KB  conda-forge\n",
            "    libbrotlicommon-1.0.9      |       h166bdaf_7          65 KB  conda-forge\n",
            "    libbrotlidec-1.0.9         |       h166bdaf_7          33 KB  conda-forge\n",
            "    libbrotlienc-1.0.9         |       h166bdaf_7         287 KB  conda-forge\n",
            "    libcblas-3.9.0             |14_linux64_openblas          12 KB  conda-forge\n",
            "    libffi-3.4.2               |       h7f98852_5          57 KB  conda-forge\n",
            "    libgcc-ng-11.2.0           |      h1d223b6_15         911 KB  conda-forge\n",
            "    libgfortran-ng-11.2.0      |      h69a702a_15          23 KB  conda-forge\n",
            "    libgfortran5-11.2.0        |      h5c6108e_15         1.7 MB  conda-forge\n",
            "    libglib-2.70.2             |       h174f98d_4         3.1 MB  conda-forge\n",
            "    libgomp-11.2.0             |      h1d223b6_15         432 KB  conda-forge\n",
            "    liblapack-3.9.0            |14_linux64_openblas          12 KB  conda-forge\n",
            "    libnsl-2.0.0               |       h7f98852_0          31 KB  conda-forge\n",
            "    libopenblas-0.3.20         |pthreads_h78a6416_0        10.1 MB  conda-forge\n",
            "    libpng-1.6.37              |       h21135ba_2         306 KB  conda-forge\n",
            "    libstdcxx-ng-11.2.0        |      he4da1e4_15         4.2 MB  conda-forge\n",
            "    libtiff-4.0.10             |    hc3755c2_1005         602 KB  conda-forge\n",
            "    libuuid-2.32.1             |    h7f98852_1000          28 KB  conda-forge\n",
            "    libxcb-1.13                |    h7f98852_1004         391 KB  conda-forge\n",
            "    libzlib-1.2.11             |    h166bdaf_1014          60 KB  conda-forge\n",
            "    matplotlib-base-3.5.1      |   py37h1058ff1_0         7.4 MB  conda-forge\n",
            "    munkres-1.1.4              |     pyh9f0ad1d_0          12 KB  conda-forge\n",
            "    ncurses-6.3                |       h27087fc_1        1002 KB  conda-forge\n",
            "    numpy-1.21.5               |   py37h976b520_1         6.1 MB  conda-forge\n",
            "    olefile-0.46               |     pyh9f0ad1d_1          32 KB  conda-forge\n",
            "    openssl-1.1.1n             |       h166bdaf_0         2.1 MB  conda-forge\n",
            "    packaging-21.3             |     pyhd8ed1ab_0          36 KB  conda-forge\n",
            "    pandas-1.3.5               |   py37he8f5f7f_0        12.7 MB  conda-forge\n",
            "    pcre-8.45                  |       h9c3ff4c_0         253 KB  conda-forge\n",
            "    pillow-6.2.1               |   py37h6b7be26_0         637 KB  conda-forge\n",
            "    pixman-0.40.0              |       h36c2ea0_0         627 KB  conda-forge\n",
            "    pthread-stubs-0.4          |    h36c2ea0_1001           5 KB  conda-forge\n",
            "    pycairo-1.21.0             |   py37h0afab05_1         116 KB  conda-forge\n",
            "    pyparsing-3.0.8            |     pyhd8ed1ab_0          79 KB  conda-forge\n",
            "    python-3.7.12              |hb7a2778_100_cpython        57.3 MB  conda-forge\n",
            "    python-dateutil-2.8.2      |     pyhd8ed1ab_0         240 KB  conda-forge\n",
            "    python_abi-3.7             |          2_cp37m           4 KB  conda-forge\n",
            "    pytz-2022.1                |     pyhd8ed1ab_0         242 KB  conda-forge\n",
            "    rdkit-2022.03.1            |   py37hc52db9c_0        39.4 MB  conda-forge\n",
            "    readline-8.1               |       h46c0cb4_0         295 KB  conda-forge\n",
            "    reportlab-3.5.68           |   py37h69800bb_1         2.4 MB  conda-forge\n",
            "    sqlalchemy-1.4.35          |   py37h540881e_0         2.3 MB  conda-forge\n",
            "    sqlite-3.38.2              |       h4ff8645_0         1.5 MB  conda-forge\n",
            "    tk-8.6.12                  |       h27826a3_0         3.3 MB  conda-forge\n",
            "    typing-extensions-4.1.1    |       hd8ed1ab_0           8 KB  conda-forge\n",
            "    typing_extensions-4.1.1    |     pyha770c72_0          29 KB  conda-forge\n",
            "    unicodedata2-14.0.0        |   py37h540881e_1         496 KB  conda-forge\n",
            "    xorg-kbproto-1.0.7         |    h7f98852_1002          27 KB  conda-forge\n",
            "    xorg-libice-1.0.10         |       h7f98852_0          58 KB  conda-forge\n",
            "    xorg-libsm-1.2.3           |    hd9c2040_1000          26 KB  conda-forge\n",
            "    xorg-libx11-1.7.2          |       h7f98852_0         941 KB  conda-forge\n",
            "    xorg-libxau-1.0.9          |       h7f98852_0          13 KB  conda-forge\n",
            "    xorg-libxdmcp-1.1.3        |       h7f98852_0          19 KB  conda-forge\n",
            "    xorg-libxext-1.3.4         |       h7f98852_1          54 KB  conda-forge\n",
            "    xorg-libxrender-0.9.10     |    h7f98852_1003          32 KB  conda-forge\n",
            "    xorg-renderproto-0.11.1    |    h7f98852_1002           9 KB  conda-forge\n",
            "    xorg-xextproto-7.3.0       |    h7f98852_1002          28 KB  conda-forge\n",
            "    xorg-xproto-7.0.31         |    h7f98852_1007          73 KB  conda-forge\n",
            "    zipp-3.8.0                 |     pyhd8ed1ab_0          12 KB  conda-forge\n",
            "    zlib-1.2.11                |    h166bdaf_1014          88 KB  conda-forge\n",
            "    ------------------------------------------------------------\n",
            "                                           Total:       189.0 MB\n",
            "\n",
            "The following NEW packages will be INSTALLED:\n",
            "\n",
            "  boost              conda-forge/linux-64::boost-1.74.0-py37h796e4cb_5\n",
            "  boost-cpp          conda-forge/linux-64::boost-cpp-1.74.0-hc6e9bd1_3\n",
            "  brotli             conda-forge/linux-64::brotli-1.0.9-h166bdaf_7\n",
            "  brotli-bin         conda-forge/linux-64::brotli-bin-1.0.9-h166bdaf_7\n",
            "  cairo              conda-forge/linux-64::cairo-1.16.0-h6cf1ce9_1008\n",
            "  cycler             conda-forge/noarch::cycler-0.11.0-pyhd8ed1ab_0\n",
            "  expat              conda-forge/linux-64::expat-2.4.8-h27087fc_0\n",
            "  fontconfig         conda-forge/linux-64::fontconfig-2.14.0-h8e229c2_0\n",
            "  fonttools          conda-forge/linux-64::fonttools-4.32.0-py37h540881e_0\n",
            "  freetype           conda-forge/linux-64::freetype-2.10.4-h0708190_1\n",
            "  gettext            conda-forge/linux-64::gettext-0.19.8.1-h73d1719_1008\n",
            "  greenlet           conda-forge/linux-64::greenlet-1.1.2-py37hd23a5d3_2\n",
            "  importlib-metadata conda-forge/linux-64::importlib-metadata-4.11.3-py37h89c1867_1\n",
            "  jpeg               conda-forge/linux-64::jpeg-9e-h7f98852_0\n",
            "  kiwisolver         conda-forge/linux-64::kiwisolver-1.4.2-py37h7cecad7_1\n",
            "  libblas            conda-forge/linux-64::libblas-3.9.0-14_linux64_openblas\n",
            "  libbrotlicommon    conda-forge/linux-64::libbrotlicommon-1.0.9-h166bdaf_7\n",
            "  libbrotlidec       conda-forge/linux-64::libbrotlidec-1.0.9-h166bdaf_7\n",
            "  libbrotlienc       conda-forge/linux-64::libbrotlienc-1.0.9-h166bdaf_7\n",
            "  libcblas           conda-forge/linux-64::libcblas-3.9.0-14_linux64_openblas\n",
            "  libgfortran-ng     conda-forge/linux-64::libgfortran-ng-11.2.0-h69a702a_15\n",
            "  libgfortran5       conda-forge/linux-64::libgfortran5-11.2.0-h5c6108e_15\n",
            "  libglib            conda-forge/linux-64::libglib-2.70.2-h174f98d_4\n",
            "  liblapack          conda-forge/linux-64::liblapack-3.9.0-14_linux64_openblas\n",
            "  libnsl             conda-forge/linux-64::libnsl-2.0.0-h7f98852_0\n",
            "  libopenblas        conda-forge/linux-64::libopenblas-0.3.20-pthreads_h78a6416_0\n",
            "  libpng             conda-forge/linux-64::libpng-1.6.37-h21135ba_2\n",
            "  libtiff            conda-forge/linux-64::libtiff-4.0.10-hc3755c2_1005\n",
            "  libuuid            conda-forge/linux-64::libuuid-2.32.1-h7f98852_1000\n",
            "  libxcb             conda-forge/linux-64::libxcb-1.13-h7f98852_1004\n",
            "  libzlib            conda-forge/linux-64::libzlib-1.2.11-h166bdaf_1014\n",
            "  matplotlib-base    conda-forge/linux-64::matplotlib-base-3.5.1-py37h1058ff1_0\n",
            "  munkres            conda-forge/noarch::munkres-1.1.4-pyh9f0ad1d_0\n",
            "  numpy              conda-forge/linux-64::numpy-1.21.5-py37h976b520_1\n",
            "  olefile            conda-forge/noarch::olefile-0.46-pyh9f0ad1d_1\n",
            "  packaging          conda-forge/noarch::packaging-21.3-pyhd8ed1ab_0\n",
            "  pandas             conda-forge/linux-64::pandas-1.3.5-py37he8f5f7f_0\n",
            "  pcre               conda-forge/linux-64::pcre-8.45-h9c3ff4c_0\n",
            "  pillow             conda-forge/linux-64::pillow-6.2.1-py37h6b7be26_0\n",
            "  pixman             conda-forge/linux-64::pixman-0.40.0-h36c2ea0_0\n",
            "  pthread-stubs      conda-forge/linux-64::pthread-stubs-0.4-h36c2ea0_1001\n",
            "  pycairo            conda-forge/linux-64::pycairo-1.21.0-py37h0afab05_1\n",
            "  pyparsing          conda-forge/noarch::pyparsing-3.0.8-pyhd8ed1ab_0\n",
            "  python-dateutil    conda-forge/noarch::python-dateutil-2.8.2-pyhd8ed1ab_0\n",
            "  pytz               conda-forge/noarch::pytz-2022.1-pyhd8ed1ab_0\n",
            "  rdkit              conda-forge/linux-64::rdkit-2022.03.1-py37hc52db9c_0\n",
            "  reportlab          conda-forge/linux-64::reportlab-3.5.68-py37h69800bb_1\n",
            "  sqlalchemy         conda-forge/linux-64::sqlalchemy-1.4.35-py37h540881e_0\n",
            "  typing-extensions  conda-forge/noarch::typing-extensions-4.1.1-hd8ed1ab_0\n",
            "  typing_extensions  conda-forge/noarch::typing_extensions-4.1.1-pyha770c72_0\n",
            "  unicodedata2       conda-forge/linux-64::unicodedata2-14.0.0-py37h540881e_1\n",
            "  xorg-kbproto       conda-forge/linux-64::xorg-kbproto-1.0.7-h7f98852_1002\n",
            "  xorg-libice        conda-forge/linux-64::xorg-libice-1.0.10-h7f98852_0\n",
            "  xorg-libsm         conda-forge/linux-64::xorg-libsm-1.2.3-hd9c2040_1000\n",
            "  xorg-libx11        conda-forge/linux-64::xorg-libx11-1.7.2-h7f98852_0\n",
            "  xorg-libxau        conda-forge/linux-64::xorg-libxau-1.0.9-h7f98852_0\n",
            "  xorg-libxdmcp      conda-forge/linux-64::xorg-libxdmcp-1.1.3-h7f98852_0\n",
            "  xorg-libxext       conda-forge/linux-64::xorg-libxext-1.3.4-h7f98852_1\n",
            "  xorg-libxrender    conda-forge/linux-64::xorg-libxrender-0.9.10-h7f98852_1003\n",
            "  xorg-renderproto   conda-forge/linux-64::xorg-renderproto-0.11.1-h7f98852_1002\n",
            "  xorg-xextproto     conda-forge/linux-64::xorg-xextproto-7.3.0-h7f98852_1002\n",
            "  xorg-xproto        conda-forge/linux-64::xorg-xproto-7.0.31-h7f98852_1007\n",
            "  zipp               conda-forge/noarch::zipp-3.8.0-pyhd8ed1ab_0\n",
            "\n",
            "The following packages will be UPDATED:\n",
            "\n",
            "  ca-certificates                      2020.12.5-ha878542_0 --> 2021.10.8-ha878542_0\n",
            "  certifi                          2020.12.5-py37h89c1867_1 --> 2021.10.8-py37h89c1867_2\n",
            "  cffi                                1.14.5-py37hc58025e_0 --> 1.15.0-py37h036bc23_0\n",
            "  conda                                4.9.2-py37h89c1867_0 --> 4.12.0-py37h89c1867_0\n",
            "  libffi                                     3.3-h58526e2_2 --> 3.4.2-h7f98852_5\n",
            "  libgcc-ng                               9.3.0-h2828fa1_18 --> 11.2.0-h1d223b6_15\n",
            "  libgomp                                 9.3.0-h2828fa1_18 --> 11.2.0-h1d223b6_15\n",
            "  libstdcxx-ng                            9.3.0-h6de172a_18 --> 11.2.0-he4da1e4_15\n",
            "  ncurses                                    6.2-h58526e2_4 --> 6.3-h27087fc_1\n",
            "  openssl                                 1.1.1j-h7f98852_0 --> 1.1.1n-h166bdaf_0\n",
            "  python                        3.7.10-hffdb5ce_100_cpython --> 3.7.12-hb7a2778_100_cpython\n",
            "  python_abi                                    3.7-1_cp37m --> 3.7-2_cp37m\n",
            "  readline                                   8.0-he28a2e2_2 --> 8.1-h46c0cb4_0\n",
            "  sqlite                                  3.34.0-h74cdb3f_0 --> 3.38.2-h4ff8645_0\n",
            "  tk                                      8.6.10-h21135ba_1 --> 8.6.12-h27826a3_0\n",
            "  zlib                                 1.2.11-h516909a_1010 --> 1.2.11-h166bdaf_1014\n",
            "\n",
            "\n",
            "\n",
            "Downloading and Extracting Packages\n",
            "unicodedata2-14.0.0  | 496 KB    | : 100% 1.0/1 [00:00<00:00,  3.67it/s]\n",
            "python_abi-3.7       | 4 KB      | : 100% 1.0/1 [00:00<00:00, 11.48it/s]\n",
            "cairo-1.16.0         | 1.5 MB    | : 100% 1.0/1 [00:00<00:00,  2.34it/s]               \n",
            "pycairo-1.21.0       | 116 KB    | : 100% 1.0/1 [00:00<00:00, 13.47it/s]\n",
            "zipp-3.8.0           | 12 KB     | : 100% 1.0/1 [00:00<00:00, 18.54it/s]\n",
            "typing_extensions-4. | 29 KB     | : 100% 1.0/1 [00:00<00:00, 18.55it/s]\n",
            "gettext-0.19.8.1     | 3.6 MB    | : 100% 1.0/1 [00:00<00:00,  1.01it/s]\n",
            "xorg-libxau-1.0.9    | 13 KB     | : 100% 1.0/1 [00:00<00:00, 16.58it/s]\n",
            "readline-8.1         | 295 KB    | : 100% 1.0/1 [00:00<00:00,  9.16it/s]\n",
            "sqlalchemy-1.4.35    | 2.3 MB    | : 100% 1.0/1 [00:00<00:00,  1.42it/s]\n",
            "python-dateutil-2.8. | 240 KB    | : 100% 1.0/1 [00:00<00:00, 11.02it/s]\n",
            "matplotlib-base-3.5. | 7.4 MB    | : 100% 1.0/1 [00:01<00:00,  1.58s/it]\n",
            "libcblas-3.9.0       | 12 KB     | : 100% 1.0/1 [00:00<00:00, 19.06it/s]\n",
            "libopenblas-0.3.20   | 10.1 MB   | : 100% 1.0/1 [00:02<00:00,  2.18s/it]               \n",
            "libglib-2.70.2       | 3.1 MB    | : 100% 1.0/1 [00:00<00:00,  1.29it/s]\n",
            "libbrotlicommon-1.0. | 65 KB     | : 100% 1.0/1 [00:00<00:00, 17.88it/s]\n",
            "olefile-0.46         | 32 KB     | : 100% 1.0/1 [00:00<00:00, 16.01it/s]\n",
            "libgomp-11.2.0       | 432 KB    | : 100% 1.0/1 [00:00<00:00,  8.90it/s]\n",
            "libstdcxx-ng-11.2.0  | 4.2 MB    | : 100% 1.0/1 [00:00<00:00,  1.25it/s]\n",
            "conda-4.12.0         | 1.0 MB    | : 100% 1.0/1 [00:00<00:00,  3.31it/s]\n",
            "libbrotlidec-1.0.9   | 33 KB     | : 100% 1.0/1 [00:00<00:00, 13.55it/s]\n",
            "kiwisolver-1.4.2     | 73 KB     | : 100% 1.0/1 [00:00<00:00, 11.56it/s]\n",
            "pixman-0.40.0        | 627 KB    | : 100% 1.0/1 [00:00<00:00,  6.14it/s]\n",
            "boost-1.74.0         | 342 KB    | : 100% 1.0/1 [00:00<00:00,  6.99it/s]\n",
            "xorg-xproto-7.0.31   | 73 KB     | : 100% 1.0/1 [00:00<00:00, 15.91it/s]\n",
            "openssl-1.1.1n       | 2.1 MB    | : 100% 1.0/1 [00:00<00:00,  2.35it/s]               \n",
            "brotli-1.0.9         | 18 KB     | : 100% 1.0/1 [00:00<00:00, 20.68it/s]\n",
            "libbrotlienc-1.0.9   | 287 KB    | : 100% 1.0/1 [00:00<00:00, 10.79it/s]\n",
            "pcre-8.45            | 253 KB    | : 100% 1.0/1 [00:00<00:00, 10.11it/s]\n",
            "pthread-stubs-0.4    | 5 KB      | : 100% 1.0/1 [00:00<00:00, 18.69it/s]\n",
            "xorg-kbproto-1.0.7   | 27 KB     | : 100% 1.0/1 [00:00<00:00, 17.02it/s]\n",
            "libpng-1.6.37        | 306 KB    | : 100% 1.0/1 [00:00<00:00,  3.51it/s]\n",
            "xorg-libx11-1.7.2    | 941 KB    | : 100% 1.0/1 [00:00<00:00,  4.13it/s]\n",
            "python-3.7.12        | 57.3 MB   | : 100% 1.0/1 [00:08<00:00,  8.17s/it]               \n",
            "pillow-6.2.1         | 637 KB    | : 100% 1.0/1 [00:00<00:00,  5.78it/s]\n",
            "libffi-3.4.2         | 57 KB     | : 100% 1.0/1 [00:00<00:00, 16.03it/s]\n",
            "zlib-1.2.11          | 88 KB     | : 100% 1.0/1 [00:00<00:00, 16.04it/s]\n",
            "munkres-1.1.4        | 12 KB     | : 100% 1.0/1 [00:00<00:00, 16.05it/s]\n",
            "cffi-1.15.0          | 225 KB    | : 100% 1.0/1 [00:00<00:00,  9.07it/s]\n",
            "greenlet-1.1.2       | 90 KB     | : 100% 1.0/1 [00:00<00:00, 11.36it/s]\n",
            "libxcb-1.13          | 391 KB    | : 100% 1.0/1 [00:00<00:00,  6.24it/s]\n",
            "brotli-bin-1.0.9     | 19 KB     | : 100% 1.0/1 [00:00<00:00, 16.88it/s]\n",
            "libtiff-4.0.10       | 602 KB    | : 100% 1.0/1 [00:00<00:00,  5.56it/s]\n",
            "libgcc-ng-11.2.0     | 911 KB    | : 100% 1.0/1 [00:00<00:00,  5.46it/s]\n",
            "libzlib-1.2.11       | 60 KB     | : 100% 1.0/1 [00:00<00:00, 18.07it/s]\n",
            "libnsl-2.0.0         | 31 KB     | : 100% 1.0/1 [00:00<00:00, 19.56it/s]\n",
            "jpeg-9e              | 269 KB    | : 100% 1.0/1 [00:00<00:00, 10.06it/s]\n",
            "expat-2.4.8          | 187 KB    | : 100% 1.0/1 [00:00<00:00, 10.54it/s]\n",
            "sqlite-3.38.2        | 1.5 MB    | : 100% 1.0/1 [00:01<00:00,  1.24s/it]\n",
            "libuuid-2.32.1       | 28 KB     | : 100% 1.0/1 [00:00<00:00, 17.90it/s]\n",
            "xorg-libice-1.0.10   | 58 KB     | : 100% 1.0/1 [00:00<00:00, 17.76it/s]\n",
            "xorg-libxdmcp-1.1.3  | 19 KB     | : 100% 1.0/1 [00:00<00:00, 21.42it/s]\n",
            "ca-certificates-2021 | 139 KB    | : 100% 1.0/1 [00:00<00:00, 15.97it/s]\n",
            "libgfortran5-11.2.0  | 1.7 MB    | : 100% 1.0/1 [00:00<00:00,  2.65it/s]\n",
            "xorg-xextproto-7.3.0 | 28 KB     | : 100% 1.0/1 [00:00<00:00, 16.59it/s]\n",
            "fonttools-4.32.0     | 1.6 MB    | : 100% 1.0/1 [00:00<00:00,  2.23it/s]\n",
            "rdkit-2022.03.1      | 39.4 MB   | : 100% 1.0/1 [00:07<00:00,  7.70s/it]               \n",
            "packaging-21.3       | 36 KB     | : 100% 1.0/1 [00:00<00:00, 10.87it/s]\n",
            "libgfortran-ng-11.2. | 23 KB     | : 100% 1.0/1 [00:00<00:00, 14.51it/s]\n",
            "xorg-renderproto-0.1 | 9 KB      | : 100% 1.0/1 [00:00<00:00, 18.56it/s]\n",
            "pandas-1.3.5         | 12.7 MB   | : 100% 1.0/1 [00:02<00:00,  2.95s/it]\n",
            "importlib-metadata-4 | 33 KB     | : 100% 1.0/1 [00:00<00:00, 18.92it/s]\n",
            "typing-extensions-4. | 8 KB      | : 100% 1.0/1 [00:00<00:00, 17.09it/s]\n",
            "tk-8.6.12            | 3.3 MB    | : 100% 1.0/1 [00:00<00:00,  1.48it/s]\n",
            "certifi-2021.10.8    | 145 KB    | : 100% 1.0/1 [00:00<00:00, 14.45it/s]\n",
            "liblapack-3.9.0      | 12 KB     | : 100% 1.0/1 [00:00<00:00, 17.78it/s]\n",
            "numpy-1.21.5         | 6.1 MB    | : 100% 1.0/1 [00:01<00:00,  1.43s/it]               \n",
            "ncurses-6.3          | 1002 KB   | : 100% 1.0/1 [00:00<00:00,  2.15it/s]\n",
            "boost-cpp-1.74.0     | 16.3 MB   | : 100% 1.0/1 [00:06<00:00,  6.50s/it]              \n",
            "xorg-libxext-1.3.4   | 54 KB     | : 100% 1.0/1 [00:00<00:00, 17.75it/s]\n",
            "pytz-2022.1          | 242 KB    | : 100% 1.0/1 [00:00<00:00,  6.93it/s]\n",
            "freetype-2.10.4      | 890 KB    | : 100% 1.0/1 [00:00<00:00,  4.55it/s]\n",
            "fontconfig-2.14.0    | 305 KB    | : 100% 1.0/1 [00:00<00:00,  8.98it/s]\n",
            "xorg-libxrender-0.9. | 32 KB     | : 100% 1.0/1 [00:00<00:00, 19.62it/s]\n",
            "reportlab-3.5.68     | 2.4 MB    | : 100% 1.0/1 [00:00<00:00,  1.98it/s]\n",
            "libblas-3.9.0        | 12 KB     | : 100% 1.0/1 [00:00<00:00, 13.46it/s]\n",
            "xorg-libsm-1.2.3     | 26 KB     | : 100% 1.0/1 [00:00<00:00, 17.16it/s]\n",
            "cycler-0.11.0        | 10 KB     | : 100% 1.0/1 [00:00<00:00, 18.95it/s]\n",
            "pyparsing-3.0.8      | 79 KB     | : 100% 1.0/1 [00:00<00:00, 13.29it/s]\n",
            "Preparing transaction: / \b\b- \b\b\\ \b\b| \b\b/ \b\b- \b\b\\ \b\b| \b\b/ \b\b- \b\b\\ \b\b| \b\b/ \b\bdone\n",
            "Verifying transaction: \\ \b\b| \b\b/ \b\b- \b\b\\ \b\b| \b\b/ \b\b- \b\b\\ \b\b| \b\b/ \b\b- \b\b\\ \b\b| \b\b/ \b\b- \b\b\\ \b\b| \b\b/ \b\b- \b\b\\ \b\b| \b\b/ \b\b- \b\b\\ \b\b| \b\b/ \b\b- \b\b\\ \b\b| \b\b/ \b\b- \b\b\\ \b\b| \b\b/ \b\b- \b\b\\ \b\b| \b\b/ \b\b- \b\b\\ \b\b| \b\b/ \b\b- \b\b\\ \b\b| \b\b/ \b\b- \b\bdone\n",
            "Executing transaction: | \b\b/ \b\b- \b\b\\ \b\b| \b\b/ \b\b- \b\b\\ \b\b| \b\b/ \b\b- \b\b\\ \b\b| \b\b/ \b\b- \b\b\\ \b\b| \b\b/ \b\b- \b\b\\ \b\b| \b\b/ \b\b- \b\b\\ \b\b| \b\b/ \b\b- \b\b\\ \b\b| \b\b/ \b\b- \b\b\\ \b\b| \b\b/ \b\b- \b\b\\ \b\b| \b\b/ \b\b- \b\b\\ \b\bdone\n"
          ]
        }
      ]
    },
    {
      "cell_type": "code",
      "source": [
        "import numpy as np\n",
        "import pandas as pd\n",
        "import matplotlib.pyplot as plt\n",
        "import torch\n",
        "import torch.nn as nn\n",
        "from sklearn.preprocessing import StandardScaler\n",
        "from sklearn.model_selection import train_test_split\n",
        "from sklearn.feature_selection import VarianceThreshold"
      ],
      "metadata": {
        "id": "cAvQ6DQVRbqf"
      },
      "execution_count": null,
      "outputs": []
    },
    {
      "cell_type": "code",
      "source": [
        "from rdkit import Chem, DataStructs\n",
        "from rdkit.Chem import PandasTools, AllChem"
      ],
      "metadata": {
        "id": "cyx9KWjgmhoZ"
      },
      "execution_count": null,
      "outputs": []
    },
    {
      "cell_type": "code",
      "source": [
        "data = pd.read_csv(\"dataset.csv\")\n",
        "data.head(5)"
      ],
      "metadata": {
        "colab": {
          "base_uri": "https://localhost:8080/",
          "height": 353
        },
        "id": "6ySOdSzqnW93",
        "outputId": "bd574311-2407-4f1f-d092-85bf0200e7e0"
      },
      "execution_count": null,
      "outputs": [
        {
          "output_type": "execute_result",
          "data": {
            "text/plain": [
              "                Ambit_InchiKey Original_Entry_ID  Entrez_ID Activity_Flag  \\\n",
              "0  CWYBNSVSYKQGJB-UHFFFAOYNA-N          71541095       6532             A   \n",
              "1  CTETYYAZBPJBHE-UHFFFAOYNA-N        CHEMBL1289       6532             A   \n",
              "2  FQDRMHHCWZAXJM-UHFFFAOYNA-N            125558      25553             A   \n",
              "3  QRAWNNQNLQPNIZ-UHFFFAOYNA-N      CHEMBL205229       6532             A   \n",
              "4  HCFHWXDIZOAUTQ-UHFFFAOYNA-N        CHEMBL6376      25553             A   \n",
              "\n",
              "     pXC50        DB  Original_Assay_ID  Tax_ID Gene_Symbol  Ortholog_Group  \\\n",
              "0  6.85387   pubchem             727355    9606      SLC6A4            4061   \n",
              "1  6.37000  chembl20             774720    9606      SLC6A4            4061   \n",
              "2  9.98297   pubchem             205028   10116      SLC6A4            4061   \n",
              "3  7.54000  chembl20             950695    9606      SLC6A4            4061   \n",
              "4  6.11000  chembl20             201505   10116      SLC6A4            4061   \n",
              "\n",
              "                          SMILES  \n",
              "0     ClC=1C=C(C2CCCCNC2)C=CC1Cl  \n",
              "1  C(#CI)COC=1C=C(Cl)C(=CC1Cl)Cl  \n",
              "2       O1C=2C=C3CC(N)CC3=CC2OC1  \n",
              "3      N1C=C(CCN)C2=C1C(=CC=C2)F  \n",
              "4      C1(=CC=2OCOC2C=C1C)CC(N)C  "
            ],
            "text/html": [
              "\n",
              "  <div id=\"df-706c4baa-4651-4954-9b65-e85b9613b242\">\n",
              "    <div class=\"colab-df-container\">\n",
              "      <div>\n",
              "<style scoped>\n",
              "    .dataframe tbody tr th:only-of-type {\n",
              "        vertical-align: middle;\n",
              "    }\n",
              "\n",
              "    .dataframe tbody tr th {\n",
              "        vertical-align: top;\n",
              "    }\n",
              "\n",
              "    .dataframe thead th {\n",
              "        text-align: right;\n",
              "    }\n",
              "</style>\n",
              "<table border=\"1\" class=\"dataframe\">\n",
              "  <thead>\n",
              "    <tr style=\"text-align: right;\">\n",
              "      <th></th>\n",
              "      <th>Ambit_InchiKey</th>\n",
              "      <th>Original_Entry_ID</th>\n",
              "      <th>Entrez_ID</th>\n",
              "      <th>Activity_Flag</th>\n",
              "      <th>pXC50</th>\n",
              "      <th>DB</th>\n",
              "      <th>Original_Assay_ID</th>\n",
              "      <th>Tax_ID</th>\n",
              "      <th>Gene_Symbol</th>\n",
              "      <th>Ortholog_Group</th>\n",
              "      <th>SMILES</th>\n",
              "    </tr>\n",
              "  </thead>\n",
              "  <tbody>\n",
              "    <tr>\n",
              "      <th>0</th>\n",
              "      <td>CWYBNSVSYKQGJB-UHFFFAOYNA-N</td>\n",
              "      <td>71541095</td>\n",
              "      <td>6532</td>\n",
              "      <td>A</td>\n",
              "      <td>6.85387</td>\n",
              "      <td>pubchem</td>\n",
              "      <td>727355</td>\n",
              "      <td>9606</td>\n",
              "      <td>SLC6A4</td>\n",
              "      <td>4061</td>\n",
              "      <td>ClC=1C=C(C2CCCCNC2)C=CC1Cl</td>\n",
              "    </tr>\n",
              "    <tr>\n",
              "      <th>1</th>\n",
              "      <td>CTETYYAZBPJBHE-UHFFFAOYNA-N</td>\n",
              "      <td>CHEMBL1289</td>\n",
              "      <td>6532</td>\n",
              "      <td>A</td>\n",
              "      <td>6.37000</td>\n",
              "      <td>chembl20</td>\n",
              "      <td>774720</td>\n",
              "      <td>9606</td>\n",
              "      <td>SLC6A4</td>\n",
              "      <td>4061</td>\n",
              "      <td>C(#CI)COC=1C=C(Cl)C(=CC1Cl)Cl</td>\n",
              "    </tr>\n",
              "    <tr>\n",
              "      <th>2</th>\n",
              "      <td>FQDRMHHCWZAXJM-UHFFFAOYNA-N</td>\n",
              "      <td>125558</td>\n",
              "      <td>25553</td>\n",
              "      <td>A</td>\n",
              "      <td>9.98297</td>\n",
              "      <td>pubchem</td>\n",
              "      <td>205028</td>\n",
              "      <td>10116</td>\n",
              "      <td>SLC6A4</td>\n",
              "      <td>4061</td>\n",
              "      <td>O1C=2C=C3CC(N)CC3=CC2OC1</td>\n",
              "    </tr>\n",
              "    <tr>\n",
              "      <th>3</th>\n",
              "      <td>QRAWNNQNLQPNIZ-UHFFFAOYNA-N</td>\n",
              "      <td>CHEMBL205229</td>\n",
              "      <td>6532</td>\n",
              "      <td>A</td>\n",
              "      <td>7.54000</td>\n",
              "      <td>chembl20</td>\n",
              "      <td>950695</td>\n",
              "      <td>9606</td>\n",
              "      <td>SLC6A4</td>\n",
              "      <td>4061</td>\n",
              "      <td>N1C=C(CCN)C2=C1C(=CC=C2)F</td>\n",
              "    </tr>\n",
              "    <tr>\n",
              "      <th>4</th>\n",
              "      <td>HCFHWXDIZOAUTQ-UHFFFAOYNA-N</td>\n",
              "      <td>CHEMBL6376</td>\n",
              "      <td>25553</td>\n",
              "      <td>A</td>\n",
              "      <td>6.11000</td>\n",
              "      <td>chembl20</td>\n",
              "      <td>201505</td>\n",
              "      <td>10116</td>\n",
              "      <td>SLC6A4</td>\n",
              "      <td>4061</td>\n",
              "      <td>C1(=CC=2OCOC2C=C1C)CC(N)C</td>\n",
              "    </tr>\n",
              "  </tbody>\n",
              "</table>\n",
              "</div>\n",
              "      <button class=\"colab-df-convert\" onclick=\"convertToInteractive('df-706c4baa-4651-4954-9b65-e85b9613b242')\"\n",
              "              title=\"Convert this dataframe to an interactive table.\"\n",
              "              style=\"display:none;\">\n",
              "        \n",
              "  <svg xmlns=\"http://www.w3.org/2000/svg\" height=\"24px\"viewBox=\"0 0 24 24\"\n",
              "       width=\"24px\">\n",
              "    <path d=\"M0 0h24v24H0V0z\" fill=\"none\"/>\n",
              "    <path d=\"M18.56 5.44l.94 2.06.94-2.06 2.06-.94-2.06-.94-.94-2.06-.94 2.06-2.06.94zm-11 1L8.5 8.5l.94-2.06 2.06-.94-2.06-.94L8.5 2.5l-.94 2.06-2.06.94zm10 10l.94 2.06.94-2.06 2.06-.94-2.06-.94-.94-2.06-.94 2.06-2.06.94z\"/><path d=\"M17.41 7.96l-1.37-1.37c-.4-.4-.92-.59-1.43-.59-.52 0-1.04.2-1.43.59L10.3 9.45l-7.72 7.72c-.78.78-.78 2.05 0 2.83L4 21.41c.39.39.9.59 1.41.59.51 0 1.02-.2 1.41-.59l7.78-7.78 2.81-2.81c.8-.78.8-2.07 0-2.86zM5.41 20L4 18.59l7.72-7.72 1.47 1.35L5.41 20z\"/>\n",
              "  </svg>\n",
              "      </button>\n",
              "      \n",
              "  <style>\n",
              "    .colab-df-container {\n",
              "      display:flex;\n",
              "      flex-wrap:wrap;\n",
              "      gap: 12px;\n",
              "    }\n",
              "\n",
              "    .colab-df-convert {\n",
              "      background-color: #E8F0FE;\n",
              "      border: none;\n",
              "      border-radius: 50%;\n",
              "      cursor: pointer;\n",
              "      display: none;\n",
              "      fill: #1967D2;\n",
              "      height: 32px;\n",
              "      padding: 0 0 0 0;\n",
              "      width: 32px;\n",
              "    }\n",
              "\n",
              "    .colab-df-convert:hover {\n",
              "      background-color: #E2EBFA;\n",
              "      box-shadow: 0px 1px 2px rgba(60, 64, 67, 0.3), 0px 1px 3px 1px rgba(60, 64, 67, 0.15);\n",
              "      fill: #174EA6;\n",
              "    }\n",
              "\n",
              "    [theme=dark] .colab-df-convert {\n",
              "      background-color: #3B4455;\n",
              "      fill: #D2E3FC;\n",
              "    }\n",
              "\n",
              "    [theme=dark] .colab-df-convert:hover {\n",
              "      background-color: #434B5C;\n",
              "      box-shadow: 0px 1px 3px 1px rgba(0, 0, 0, 0.15);\n",
              "      filter: drop-shadow(0px 1px 2px rgba(0, 0, 0, 0.3));\n",
              "      fill: #FFFFFF;\n",
              "    }\n",
              "  </style>\n",
              "\n",
              "      <script>\n",
              "        const buttonEl =\n",
              "          document.querySelector('#df-706c4baa-4651-4954-9b65-e85b9613b242 button.colab-df-convert');\n",
              "        buttonEl.style.display =\n",
              "          google.colab.kernel.accessAllowed ? 'block' : 'none';\n",
              "\n",
              "        async function convertToInteractive(key) {\n",
              "          const element = document.querySelector('#df-706c4baa-4651-4954-9b65-e85b9613b242');\n",
              "          const dataTable =\n",
              "            await google.colab.kernel.invokeFunction('convertToInteractive',\n",
              "                                                     [key], {});\n",
              "          if (!dataTable) return;\n",
              "\n",
              "          const docLinkHtml = 'Like what you see? Visit the ' +\n",
              "            '<a target=\"_blank\" href=https://colab.research.google.com/notebooks/data_table.ipynb>data table notebook</a>'\n",
              "            + ' to learn more about interactive tables.';\n",
              "          element.innerHTML = '';\n",
              "          dataTable['output_type'] = 'display_data';\n",
              "          await google.colab.output.renderOutput(dataTable, element);\n",
              "          const docLink = document.createElement('div');\n",
              "          docLink.innerHTML = docLinkHtml;\n",
              "          element.appendChild(docLink);\n",
              "        }\n",
              "      </script>\n",
              "    </div>\n",
              "  </div>\n",
              "  "
            ]
          },
          "metadata": {},
          "execution_count": 4
        }
      ]
    },
    {
      "cell_type": "code",
      "source": [
        "!pwd"
      ],
      "metadata": {
        "colab": {
          "base_uri": "https://localhost:8080/"
        },
        "id": "LAODhkSonjmw",
        "outputId": "ac5919a8-2a76-4bb3-d9f1-e6a830b3830b"
      },
      "execution_count": null,
      "outputs": [
        {
          "output_type": "stream",
          "name": "stdout",
          "text": [
            "/content\n"
          ]
        }
      ]
    },
    {
      "cell_type": "code",
      "source": [
        "PandasTools.AddMoleculeColumnToFrame(data,'SMILES','Molecule')"
      ],
      "metadata": {
        "id": "i5fON5PSnmM3"
      },
      "execution_count": null,
      "outputs": []
    },
    {
      "cell_type": "code",
      "source": [
        "data.head()"
      ],
      "metadata": {
        "colab": {
          "base_uri": "https://localhost:8080/",
          "height": 1000
        },
        "id": "76uoiLP3n1ZS",
        "outputId": "fb59442b-f017-40b7-e4a1-e389c3548a18"
      },
      "execution_count": null,
      "outputs": [
        {
          "output_type": "execute_result",
          "data": {
            "text/plain": [
              "                Ambit_InchiKey Original_Entry_ID  Entrez_ID Activity_Flag  \\\n",
              "0  CWYBNSVSYKQGJB-UHFFFAOYNA-N          71541095       6532             A   \n",
              "1  CTETYYAZBPJBHE-UHFFFAOYNA-N        CHEMBL1289       6532             A   \n",
              "2  FQDRMHHCWZAXJM-UHFFFAOYNA-N            125558      25553             A   \n",
              "3  QRAWNNQNLQPNIZ-UHFFFAOYNA-N      CHEMBL205229       6532             A   \n",
              "4  HCFHWXDIZOAUTQ-UHFFFAOYNA-N        CHEMBL6376      25553             A   \n",
              "\n",
              "     pXC50        DB  Original_Assay_ID  Tax_ID Gene_Symbol  Ortholog_Group  \\\n",
              "0  6.85387   pubchem             727355    9606      SLC6A4            4061   \n",
              "1  6.37000  chembl20             774720    9606      SLC6A4            4061   \n",
              "2  9.98297   pubchem             205028   10116      SLC6A4            4061   \n",
              "3  7.54000  chembl20             950695    9606      SLC6A4            4061   \n",
              "4  6.11000  chembl20             201505   10116      SLC6A4            4061   \n",
              "\n",
              "                          SMILES  \\\n",
              "0     ClC=1C=C(C2CCCCNC2)C=CC1Cl   \n",
              "1  C(#CI)COC=1C=C(Cl)C(=CC1Cl)Cl   \n",
              "2       O1C=2C=C3CC(N)CC3=CC2OC1   \n",
              "3      N1C=C(CCN)C2=C1C(=CC=C2)F   \n",
              "4      C1(=CC=2OCOC2C=C1C)CC(N)C   \n",
              "\n",
              "                                            Molecule  \n",
              "0  <img data-content=\"rdkit/molecule\" src=\"data:i...  \n",
              "1  <img data-content=\"rdkit/molecule\" src=\"data:i...  \n",
              "2  <img data-content=\"rdkit/molecule\" src=\"data:i...  \n",
              "3  <img data-content=\"rdkit/molecule\" src=\"data:i...  \n",
              "4  <img data-content=\"rdkit/molecule\" src=\"data:i...  "
            ],
            "text/html": [
              "\n",
              "  <div id=\"df-33833075-0d81-4972-ae28-df373bc793cd\">\n",
              "    <div class=\"colab-df-container\">\n",
              "      <div>\n",
              "<style scoped>\n",
              "    .dataframe tbody tr th:only-of-type {\n",
              "        vertical-align: middle;\n",
              "    }\n",
              "\n",
              "    .dataframe tbody tr th {\n",
              "        vertical-align: top;\n",
              "    }\n",
              "\n",
              "    .dataframe thead th {\n",
              "        text-align: right;\n",
              "    }\n",
              "</style>\n",
              "<table border=\"1\" class=\"dataframe\">\n",
              "  <thead>\n",
              "    <tr style=\"text-align: right;\">\n",
              "      <th></th>\n",
              "      <th>Ambit_InchiKey</th>\n",
              "      <th>Original_Entry_ID</th>\n",
              "      <th>Entrez_ID</th>\n",
              "      <th>Activity_Flag</th>\n",
              "      <th>pXC50</th>\n",
              "      <th>DB</th>\n",
              "      <th>Original_Assay_ID</th>\n",
              "      <th>Tax_ID</th>\n",
              "      <th>Gene_Symbol</th>\n",
              "      <th>Ortholog_Group</th>\n",
              "      <th>SMILES</th>\n",
              "      <th>Molecule</th>\n",
              "    </tr>\n",
              "  </thead>\n",
              "  <tbody>\n",
              "    <tr>\n",
              "      <th>0</th>\n",
              "      <td>CWYBNSVSYKQGJB-UHFFFAOYNA-N</td>\n",
              "      <td>71541095</td>\n",
              "      <td>6532</td>\n",
              "      <td>A</td>\n",
              "      <td>6.85387</td>\n",
              "      <td>pubchem</td>\n",
              "      <td>727355</td>\n",
              "      <td>9606</td>\n",
              "      <td>SLC6A4</td>\n",
              "      <td>4061</td>\n",
              "      <td>ClC=1C=C(C2CCCCNC2)C=CC1Cl</td>\n",
              "      <td style=\"text-align: center;\"><img data-content=\"rdkit/molecule\" src=\"data:image/png;base64,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\" alt=\"Mol\"/></td>\n",
              "    </tr>\n",
              "    <tr>\n",
              "      <th>1</th>\n",
              "      <td>CTETYYAZBPJBHE-UHFFFAOYNA-N</td>\n",
              "      <td>CHEMBL1289</td>\n",
              "      <td>6532</td>\n",
              "      <td>A</td>\n",
              "      <td>6.37000</td>\n",
              "      <td>chembl20</td>\n",
              "      <td>774720</td>\n",
              "      <td>9606</td>\n",
              "      <td>SLC6A4</td>\n",
              "      <td>4061</td>\n",
              "      <td>C(#CI)COC=1C=C(Cl)C(=CC1Cl)Cl</td>\n",
              "      <td style=\"text-align: center;\"><img data-content=\"rdkit/molecule\" src=\"data:image/png;base64,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\" alt=\"Mol\"/></td>\n",
              "    </tr>\n",
              "    <tr>\n",
              "      <th>2</th>\n",
              "      <td>FQDRMHHCWZAXJM-UHFFFAOYNA-N</td>\n",
              "      <td>125558</td>\n",
              "      <td>25553</td>\n",
              "      <td>A</td>\n",
              "      <td>9.98297</td>\n",
              "      <td>pubchem</td>\n",
              "      <td>205028</td>\n",
              "      <td>10116</td>\n",
              "      <td>SLC6A4</td>\n",
              "      <td>4061</td>\n",
              "      <td>O1C=2C=C3CC(N)CC3=CC2OC1</td>\n",
              "      <td style=\"text-align: center;\"><img data-content=\"rdkit/molecule\" src=\"data:image/png;base64,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\" alt=\"Mol\"/></td>\n",
              "    </tr>\n",
              "    <tr>\n",
              "      <th>3</th>\n",
              "      <td>QRAWNNQNLQPNIZ-UHFFFAOYNA-N</td>\n",
              "      <td>CHEMBL205229</td>\n",
              "      <td>6532</td>\n",
              "      <td>A</td>\n",
              "      <td>7.54000</td>\n",
              "      <td>chembl20</td>\n",
              "      <td>950695</td>\n",
              "      <td>9606</td>\n",
              "      <td>SLC6A4</td>\n",
              "      <td>4061</td>\n",
              "      <td>N1C=C(CCN)C2=C1C(=CC=C2)F</td>\n",
              "      <td style=\"text-align: center;\"><img data-content=\"rdkit/molecule\" src=\"data:image/png;base64,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\" alt=\"Mol\"/></td>\n",
              "    </tr>\n",
              "    <tr>\n",
              "      <th>4</th>\n",
              "      <td>HCFHWXDIZOAUTQ-UHFFFAOYNA-N</td>\n",
              "      <td>CHEMBL6376</td>\n",
              "      <td>25553</td>\n",
              "      <td>A</td>\n",
              "      <td>6.11000</td>\n",
              "      <td>chembl20</td>\n",
              "      <td>201505</td>\n",
              "      <td>10116</td>\n",
              "      <td>SLC6A4</td>\n",
              "      <td>4061</td>\n",
              "      <td>C1(=CC=2OCOC2C=C1C)CC(N)C</td>\n",
              "      <td style=\"text-align: center;\"><img data-content=\"rdkit/molecule\" src=\"data:image/png;base64,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\" alt=\"Mol\"/></td>\n",
              "    </tr>\n",
              "  </tbody>\n",
              "</table>\n",
              "</div>\n",
              "      <button class=\"colab-df-convert\" onclick=\"convertToInteractive('df-33833075-0d81-4972-ae28-df373bc793cd')\"\n",
              "              title=\"Convert this dataframe to an interactive table.\"\n",
              "              style=\"display:none;\">\n",
              "        \n",
              "  <svg xmlns=\"http://www.w3.org/2000/svg\" height=\"24px\"viewBox=\"0 0 24 24\"\n",
              "       width=\"24px\">\n",
              "    <path d=\"M0 0h24v24H0V0z\" fill=\"none\"/>\n",
              "    <path d=\"M18.56 5.44l.94 2.06.94-2.06 2.06-.94-2.06-.94-.94-2.06-.94 2.06-2.06.94zm-11 1L8.5 8.5l.94-2.06 2.06-.94-2.06-.94L8.5 2.5l-.94 2.06-2.06.94zm10 10l.94 2.06.94-2.06 2.06-.94-2.06-.94-.94-2.06-.94 2.06-2.06.94z\"/><path d=\"M17.41 7.96l-1.37-1.37c-.4-.4-.92-.59-1.43-.59-.52 0-1.04.2-1.43.59L10.3 9.45l-7.72 7.72c-.78.78-.78 2.05 0 2.83L4 21.41c.39.39.9.59 1.41.59.51 0 1.02-.2 1.41-.59l7.78-7.78 2.81-2.81c.8-.78.8-2.07 0-2.86zM5.41 20L4 18.59l7.72-7.72 1.47 1.35L5.41 20z\"/>\n",
              "  </svg>\n",
              "      </button>\n",
              "      \n",
              "  <style>\n",
              "    .colab-df-container {\n",
              "      display:flex;\n",
              "      flex-wrap:wrap;\n",
              "      gap: 12px;\n",
              "    }\n",
              "\n",
              "    .colab-df-convert {\n",
              "      background-color: #E8F0FE;\n",
              "      border: none;\n",
              "      border-radius: 50%;\n",
              "      cursor: pointer;\n",
              "      display: none;\n",
              "      fill: #1967D2;\n",
              "      height: 32px;\n",
              "      padding: 0 0 0 0;\n",
              "      width: 32px;\n",
              "    }\n",
              "\n",
              "    .colab-df-convert:hover {\n",
              "      background-color: #E2EBFA;\n",
              "      box-shadow: 0px 1px 2px rgba(60, 64, 67, 0.3), 0px 1px 3px 1px rgba(60, 64, 67, 0.15);\n",
              "      fill: #174EA6;\n",
              "    }\n",
              "\n",
              "    [theme=dark] .colab-df-convert {\n",
              "      background-color: #3B4455;\n",
              "      fill: #D2E3FC;\n",
              "    }\n",
              "\n",
              "    [theme=dark] .colab-df-convert:hover {\n",
              "      background-color: #434B5C;\n",
              "      box-shadow: 0px 1px 3px 1px rgba(0, 0, 0, 0.15);\n",
              "      filter: drop-shadow(0px 1px 2px rgba(0, 0, 0, 0.3));\n",
              "      fill: #FFFFFF;\n",
              "    }\n",
              "  </style>\n",
              "\n",
              "      <script>\n",
              "        const buttonEl =\n",
              "          document.querySelector('#df-33833075-0d81-4972-ae28-df373bc793cd button.colab-df-convert');\n",
              "        buttonEl.style.display =\n",
              "          google.colab.kernel.accessAllowed ? 'block' : 'none';\n",
              "\n",
              "        async function convertToInteractive(key) {\n",
              "          const element = document.querySelector('#df-33833075-0d81-4972-ae28-df373bc793cd');\n",
              "          const dataTable =\n",
              "            await google.colab.kernel.invokeFunction('convertToInteractive',\n",
              "                                                     [key], {});\n",
              "          if (!dataTable) return;\n",
              "\n",
              "          const docLinkHtml = 'Like what you see? Visit the ' +\n",
              "            '<a target=\"_blank\" href=https://colab.research.google.com/notebooks/data_table.ipynb>data table notebook</a>'\n",
              "            + ' to learn more about interactive tables.';\n",
              "          element.innerHTML = '';\n",
              "          dataTable['output_type'] = 'display_data';\n",
              "          await google.colab.output.renderOutput(dataTable, element);\n",
              "          const docLink = document.createElement('div');\n",
              "          docLink.innerHTML = docLinkHtml;\n",
              "          element.appendChild(docLink);\n",
              "        }\n",
              "      </script>\n",
              "    </div>\n",
              "  </div>\n",
              "  "
            ]
          },
          "metadata": {},
          "execution_count": 6
        }
      ]
    },
    {
      "cell_type": "code",
      "source": [
        "def mol2fp(mol):\n",
        "    fp = AllChem.GetHashedMorganFingerprint(mol, 2, nBits=4096)\n",
        "    ar = np.zeros((1,), dtype=np.int8)\n",
        "    DataStructs.ConvertToNumpyArray(fp, ar)\n",
        "    return ar\n",
        "\n",
        "fp = mol2fp(Chem.MolFromSmiles(data.loc[1,\"SMILES\"]))"
      ],
      "metadata": {
        "id": "5y17LaiJn4mp"
      },
      "execution_count": null,
      "outputs": []
    },
    {
      "cell_type": "code",
      "source": [
        "fp"
      ],
      "metadata": {
        "colab": {
          "base_uri": "https://localhost:8080/"
        },
        "id": "nUmpKn7dpcDC",
        "outputId": "16145a4e-cb9c-4dc5-c6c6-b65a20e413d4"
      },
      "execution_count": null,
      "outputs": [
        {
          "output_type": "execute_result",
          "data": {
            "text/plain": [
              "array([0, 0, 0, ..., 0, 0, 0], dtype=int8)"
            ]
          },
          "metadata": {},
          "execution_count": 8
        }
      ]
    },
    {
      "cell_type": "code",
      "source": [
        "len(fp)"
      ],
      "metadata": {
        "colab": {
          "base_uri": "https://localhost:8080/"
        },
        "id": "1F5oSjvNpdWb",
        "outputId": "cdf96f48-5a01-4337-fba8-601424cf535f"
      },
      "execution_count": null,
      "outputs": [
        {
          "output_type": "execute_result",
          "data": {
            "text/plain": [
              "4096"
            ]
          },
          "metadata": {},
          "execution_count": 9
        }
      ]
    },
    {
      "cell_type": "code",
      "source": [
        "data.loc[1,\"SMILES\"]"
      ],
      "metadata": {
        "colab": {
          "base_uri": "https://localhost:8080/",
          "height": 35
        },
        "id": "3WQmhwlwpjTM",
        "outputId": "c1c17419-b87a-4b9a-ce01-9e83450d15c4"
      },
      "execution_count": null,
      "outputs": [
        {
          "output_type": "execute_result",
          "data": {
            "text/plain": [
              "'C(#CI)COC=1C=C(Cl)C(=CC1Cl)Cl'"
            ],
            "application/vnd.google.colaboratory.intrinsic+json": {
              "type": "string"
            }
          },
          "metadata": {},
          "execution_count": 10
        }
      ]
    },
    {
      "cell_type": "code",
      "source": [
        "fp.reshape((64,-1))"
      ],
      "metadata": {
        "colab": {
          "base_uri": "https://localhost:8080/"
        },
        "id": "bfBM9Fjupwgw",
        "outputId": "0f0f2dc9-b542-4e52-eb78-615baded1d41"
      },
      "execution_count": null,
      "outputs": [
        {
          "output_type": "execute_result",
          "data": {
            "text/plain": [
              "array([[0, 0, 0, ..., 0, 0, 0],\n",
              "       [0, 0, 0, ..., 0, 0, 0],\n",
              "       [0, 0, 0, ..., 0, 0, 0],\n",
              "       ...,\n",
              "       [0, 0, 0, ..., 0, 0, 0],\n",
              "       [0, 0, 0, ..., 0, 0, 0],\n",
              "       [0, 0, 0, ..., 0, 0, 0]], dtype=int8)"
            ]
          },
          "metadata": {},
          "execution_count": 11
        }
      ]
    },
    {
      "cell_type": "code",
      "source": [
        "4096/64"
      ],
      "metadata": {
        "colab": {
          "base_uri": "https://localhost:8080/"
        },
        "id": "fwDM2as-qOWT",
        "outputId": "93f03dc2-c581-4874-e996-70e3f66a50cd"
      },
      "execution_count": null,
      "outputs": [
        {
          "output_type": "execute_result",
          "data": {
            "text/plain": [
              "64.0"
            ]
          },
          "metadata": {},
          "execution_count": 12
        }
      ]
    },
    {
      "cell_type": "code",
      "source": [
        "plt.matshow(fp.reshape((64,-1)) > 0)"
      ],
      "metadata": {
        "colab": {
          "base_uri": "https://localhost:8080/",
          "height": 292
        },
        "id": "5V3RNcbkqbFC",
        "outputId": "0f2694a0-a933-4e11-9dd5-e88957a6e986"
      },
      "execution_count": null,
      "outputs": [
        {
          "output_type": "execute_result",
          "data": {
            "text/plain": [
              "<matplotlib.image.AxesImage at 0x7f4b4120cd50>"
            ]
          },
          "metadata": {},
          "execution_count": 13
        },
        {
          "output_type": "display_data",
          "data": {
            "text/plain": [
              "<Figure size 288x288 with 1 Axes>"
            ],
            "image/png": "[encoded data removed]"
          },
          "metadata": {
            "needs_background": "light"
          }
        }
      ]
    },
    {
      "cell_type": "code",
      "source": [
        "data[\"FPs\"] = data.Molecule.apply(mol2fp)"
      ],
      "metadata": {
        "id": "5hGsxjWYrJiZ"
      },
      "execution_count": null,
      "outputs": []
    },
    {
      "cell_type": "code",
      "source": [
        "data[\"FPs\"].head(5)"
      ],
      "metadata": {
        "colab": {
          "base_uri": "https://localhost:8080/"
        },
        "id": "FE3EjBWlrgVt",
        "outputId": "34b8cffa-defb-4dea-d259-786445ea6cd9"
      },
      "execution_count": null,
      "outputs": [
        {
          "output_type": "execute_result",
          "data": {
            "text/plain": [
              "0    [0, 0, 0, 0, 0, 0, 0, 0, 0, 0, 0, 0, 0, 0, 0, ...\n",
              "1    [0, 0, 0, 0, 0, 0, 0, 0, 0, 0, 0, 0, 0, 0, 0, ...\n",
              "2    [0, 0, 0, 0, 0, 0, 0, 0, 0, 0, 0, 0, 0, 0, 0, ...\n",
              "3    [0, 0, 0, 0, 0, 0, 0, 0, 0, 0, 0, 0, 0, 0, 0, ...\n",
              "4    [0, 0, 0, 0, 0, 0, 0, 0, 0, 0, 0, 0, 0, 0, 0, ...\n",
              "Name: FPs, dtype: object"
            ]
          },
          "metadata": {},
          "execution_count": 15
        }
      ]
    },
    {
      "cell_type": "code",
      "source": [
        "X"
      ],
      "metadata": {
        "colab": {
          "base_uri": "https://localhost:8080/",
          "height": 164
        },
        "id": "pLlUv_GRsONg",
        "outputId": "a2c584a1-648c-4b4c-aa49-807b55e57df6"
      },
      "execution_count": null,
      "outputs": [
        {
          "output_type": "error",
          "ename": "NameError",
          "evalue": "ignored",
          "traceback": [
            "\u001b[0;31m---------------------------------------------------------------------------\u001b[0m",
            "\u001b[0;31mNameError\u001b[0m                                 Traceback (most recent call last)",
            "\u001b[0;32m<ipython-input-16-b5fec669aca1>\u001b[0m in \u001b[0;36m<module>\u001b[0;34m()\u001b[0m\n\u001b[0;32m----> 1\u001b[0;31m \u001b[0mX\u001b[0m\u001b[0;34m\u001b[0m\u001b[0;34m\u001b[0m\u001b[0m\n\u001b[0m",
            "\u001b[0;31mNameError\u001b[0m: name 'X' is not defined"
          ]
        }
      ]
    },
    {
      "cell_type": "code",
      "source": [
        "X = np.stack(data.FPs.values)"
      ],
      "metadata": {
        "id": "R5D0oAThri_E"
      },
      "execution_count": null,
      "outputs": []
    },
    {
      "cell_type": "code",
      "source": [
        "data.FPs.values"
      ],
      "metadata": {
        "colab": {
          "base_uri": "https://localhost:8080/"
        },
        "id": "PQG3eJx6sPMz",
        "outputId": "5b4563b3-f49d-4e59-d3c4-ac2ac1a959d1"
      },
      "execution_count": null,
      "outputs": [
        {
          "output_type": "execute_result",
          "data": {
            "text/plain": [
              "array([array([0, 0, 0, ..., 0, 0, 0], dtype=int8),\n",
              "       array([0, 0, 0, ..., 0, 0, 0], dtype=int8),\n",
              "       array([0, 0, 0, ..., 0, 0, 0], dtype=int8), ...,\n",
              "       array([0, 2, 0, ..., 0, 0, 0], dtype=int8),\n",
              "       array([0, 2, 0, ..., 0, 0, 0], dtype=int8),\n",
              "       array([0, 2, 0, ..., 0, 0, 0], dtype=int8)], dtype=object)"
            ]
          },
          "metadata": {},
          "execution_count": 18
        }
      ]
    },
    {
      "cell_type": "code",
      "source": [
        "X"
      ],
      "metadata": {
        "colab": {
          "base_uri": "https://localhost:8080/"
        },
        "id": "u5tiSP-rsTYB",
        "outputId": "3055a010-bd71-4029-919e-87ef15ff838e"
      },
      "execution_count": null,
      "outputs": [
        {
          "output_type": "execute_result",
          "data": {
            "text/plain": [
              "array([[0, 0, 0, ..., 0, 0, 0],\n",
              "       [0, 0, 0, ..., 0, 0, 0],\n",
              "       [0, 0, 0, ..., 0, 0, 0],\n",
              "       ...,\n",
              "       [0, 2, 0, ..., 0, 0, 0],\n",
              "       [0, 2, 0, ..., 0, 0, 0],\n",
              "       [0, 2, 0, ..., 0, 0, 0]], dtype=int8)"
            ]
          },
          "metadata": {},
          "execution_count": 19
        }
      ]
    },
    {
      "cell_type": "code",
      "source": [
        "y = data.pXC50.values.reshape((-1,1))"
      ],
      "metadata": {
        "id": "SUMWzjMpsZD_"
      },
      "execution_count": null,
      "outputs": []
    },
    {
      "cell_type": "code",
      "source": [
        "y"
      ],
      "metadata": {
        "colab": {
          "base_uri": "https://localhost:8080/"
        },
        "id": "wyI1nyKvsmTh",
        "outputId": "8a301aac-df1f-4417-c328-4ef458823c87"
      },
      "execution_count": null,
      "outputs": [
        {
          "output_type": "execute_result",
          "data": {
            "text/plain": [
              "array([[6.85387],\n",
              "       [6.37   ],\n",
              "       [9.98297],\n",
              "       ...,\n",
              "       [6.60206],\n",
              "       [6.8    ],\n",
              "       [6.14   ]])"
            ]
          },
          "metadata": {},
          "execution_count": 21
        }
      ]
    },
    {
      "cell_type": "code",
      "source": [
        "X_train, X_test, y_train, y_test = train_test_split(X, y,  test_size=0.10, random_state=42)\n",
        "X_train, X_validation, y_train, y_validation = train_test_split(X_train, y_train,  test_size=0.05, random_state=42)\n",
        "#Normalizing output using standard scaling\n",
        "scaler = StandardScaler()\n",
        "y_train = scaler.fit_transform(y_train)\n",
        "y_test = scaler.transform(y_test)\n",
        "y_validation = scaler.transform(y_validation)"
      ],
      "metadata": {
        "id": "PnCENDk7snjC"
      },
      "execution_count": null,
      "outputs": []
    },
    {
      "cell_type": "code",
      "source": [
        "y_validation"
      ],
      "metadata": {
        "colab": {
          "base_uri": "https://localhost:8080/"
        },
        "id": "ucmxfmOguSVW",
        "outputId": "7a5ef95a-1971-464b-ee25-a2ffa22dbb3f"
      },
      "execution_count": null,
      "outputs": [
        {
          "output_type": "execute_result",
          "data": {
            "text/plain": [
              "array([[ 0.98149849],\n",
              "       [ 0.10682453],\n",
              "       [ 0.16821306],\n",
              "       [ 1.44925375],\n",
              "       [-0.83578527],\n",
              "       [-0.58951784],\n",
              "       [-1.14149656],\n",
              "       [ 0.45052045],\n",
              "       [-0.10547497],\n",
              "       [-1.31982814],\n",
              "       [ 0.66729522],\n",
              "       [ 1.07491027],\n",
              "       [ 1.87315641],\n",
              "       [ 1.96052191],\n",
              "       [ 1.17856338],\n",
              "       [ 0.08984057],\n",
              "       [-0.52713576],\n",
              "       [-0.40269428],\n",
              "       [ 0.41253582],\n",
              "       [-0.3059961 ],\n",
              "       [-0.85276923],\n",
              "       [-0.4366622 ],\n",
              "       [ 0.57388344],\n",
              "       [-0.01150272],\n",
              "       [ 0.60005573],\n",
              "       [-1.66777854],\n",
              "       [-1.26781476],\n",
              "       [-1.26038428],\n",
              "       [ 1.51649324],\n",
              "       [-0.01206319],\n",
              "       [-0.82729329],\n",
              "       [-0.77634141],\n",
              "       [-0.93768903],\n",
              "       [-0.02865652],\n",
              "       [ 0.58264717],\n",
              "       [-0.09698299],\n",
              "       [ 0.70975513],\n",
              "       [ 0.72673909],\n",
              "       [ 1.00697443],\n",
              "       [-0.72410724],\n",
              "       [-1.3368121 ],\n",
              "       [-1.14612469],\n",
              "       [ 0.00649179],\n",
              "       [ 1.51649324],\n",
              "       [ 0.74372305],\n",
              "       [ 1.34665364],\n",
              "       [-0.77634141],\n",
              "       [-1.59157151],\n",
              "       [-1.79485253],\n",
              "       [-0.80181735],\n",
              "       [ 0.31918348],\n",
              "       [ 2.0277614 ],\n",
              "       [ 0.19174433],\n",
              "       [ 0.34459998],\n",
              "       [-0.71689755],\n",
              "       [-0.05141503],\n",
              "       [-1.63403141],\n",
              "       [ 0.54320192],\n",
              "       [ 0.45052045],\n",
              "       [-0.40269428],\n",
              "       [ 0.54320192],\n",
              "       [ 0.03259613],\n",
              "       [ 0.93188834],\n",
              "       [-1.01986593],\n",
              "       [-0.53007398],\n",
              "       [-1.38448608],\n",
              "       [-0.65745369],\n",
              "       [ 0.02190473],\n",
              "       [ 0.68427919],\n",
              "       [-0.21587072],\n",
              "       [-1.01986593],\n",
              "       [-1.37921256],\n",
              "       [ 0.08134859],\n",
              "       [-0.86070074],\n",
              "       [-1.15519412],\n",
              "       [-1.31982814],\n",
              "       [-1.71895121],\n",
              "       [ 0.65283338],\n",
              "       [-0.02055517],\n",
              "       [ 0.84598347],\n",
              "       [ 0.58237542],\n",
              "       [ 1.26173384],\n",
              "       [ 1.56744513],\n",
              "       [ 0.60005573],\n",
              "       [-0.89425255],\n",
              "       [ 0.51775995],\n",
              "       [-0.521582  ],\n",
              "       [-0.15642685],\n",
              "       [-0.11396695],\n",
              "       [-0.40878303],\n",
              "       [ 0.76368769],\n",
              "       [-0.31777448],\n",
              "       [ 0.54320192],\n",
              "       [ 1.13435414],\n",
              "       [-1.03110081],\n",
              "       [ 1.85627436],\n",
              "       [-1.62466475],\n",
              "       [ 0.66729522],\n",
              "       [-0.48761408],\n",
              "       [ 2.07696394],\n",
              "       [-1.58307953],\n",
              "       [ 0.6333273 ],\n",
              "       [-0.76784943],\n",
              "       [ 2.0939479 ],\n",
              "       [-0.45364616],\n",
              "       [-0.29800515],\n",
              "       [ 1.75426869],\n",
              "       [-1.63403141],\n",
              "       [ 1.16832206],\n",
              "       [ 0.07373128],\n",
              "       [ 0.17476037],\n",
              "       [-0.09497039],\n",
              "       [ 1.06952636],\n",
              "       [ 0.99848245],\n",
              "       [ 0.02541192],\n",
              "       [ 0.97300651],\n",
              "       [-0.98014893],\n",
              "       [ 1.11132389],\n",
              "       [ 0.73601233],\n",
              "       [-0.00357121],\n",
              "       [-1.77839507],\n",
              "       [ 0.57388344],\n",
              "       [-0.51309002],\n",
              "       [-0.78992858],\n",
              "       [-0.99713289],\n",
              "       [ 0.14079245],\n",
              "       [-0.75887341],\n",
              "       [-1.45569982],\n",
              "       [-0.40269428],\n",
              "       [-1.20094042],\n",
              "       [ 0.22697756],\n",
              "       [ 0.83713483],\n",
              "       [ 0.51775995],\n",
              "       [ 0.40404384],\n",
              "       [-0.57253388],\n",
              "       [-1.6391266 ],\n",
              "       [ 2.61195869],\n",
              "       [-0.64896171],\n",
              "       [-0.78276984],\n",
              "       [-0.89425255],\n",
              "       [ 1.05792631],\n",
              "       [-0.97165695],\n",
              "       [ 0.00492077],\n",
              "       [-0.97165695],\n",
              "       [-1.32832012],\n",
              "       [-0.07999903],\n",
              "       [ 0.32761602],\n",
              "       [ 0.66729522],\n",
              "       [-0.84427725],\n",
              "       [ 1.26173384],\n",
              "       [ 1.07491027],\n",
              "       [ 1.55895315],\n",
              "       [-0.29229854],\n",
              "       [-0.23980961],\n",
              "       [-1.61704745],\n",
              "       [-1.10745221],\n",
              "       [-1.38776398],\n",
              "       [ 0.26817216],\n",
              "       [ 0.00492077],\n",
              "       [-0.06301507],\n",
              "       [-0.26419858],\n",
              "       [ 1.26173384],\n",
              "       [ 0.31912404],\n",
              "       [-0.45364616],\n",
              "       [-0.77546674],\n",
              "       [ 0.96451453],\n",
              "       [-1.32832012],\n",
              "       [-0.89956004],\n",
              "       [-0.1819028 ],\n",
              "       [ 0.28515612],\n",
              "       [ 1.26173384],\n",
              "       [ 0.70975513],\n",
              "       [-1.13300458],\n",
              "       [-1.2518923 ],\n",
              "       [-1.43627017],\n",
              "       [-0.4366622 ],\n",
              "       [ 0.10689247],\n",
              "       [ 0.57388344],\n",
              "       [ 1.77138852],\n",
              "       [ 1.48252532],\n",
              "       [ 0.28515612],\n",
              "       [-0.92919705],\n",
              "       [ 0.58237542],\n",
              "       [ 0.2511882 ],\n",
              "       [-1.04808478],\n",
              "       [-0.57710257],\n",
              "       [-1.31982814],\n",
              "       [-1.31982814],\n",
              "       [-0.07999903],\n",
              "       [-1.38776398],\n",
              "       [-0.40269428],\n",
              "       [-0.77634141],\n",
              "       [-0.91221309],\n",
              "       [-0.07999903],\n",
              "       [-0.42630199],\n",
              "       [ 0.75221503],\n",
              "       [-0.73165661],\n",
              "       [ 2.11093186],\n",
              "       [ 0.41258677],\n",
              "       [ 0.84562681],\n",
              "       [-0.49610606],\n",
              "       [ 0.98999047],\n",
              "       [ 0.15777641],\n",
              "       [ 0.79467493],\n",
              "       [ 2.45061107],\n",
              "       [-1.01411685],\n",
              "       [-1.56609557],\n",
              "       [-0.02865652],\n",
              "       [ 0.75221503],\n",
              "       [ 0.4916556 ],\n",
              "       [ 1.39239994],\n",
              "       [ 1.08340225],\n",
              "       [ 0.85568981],\n",
              "       [ 1.55895315],\n",
              "       [-0.77634141],\n",
              "       [-0.70496632],\n",
              "       [-1.13300458],\n",
              "       [-0.02055517],\n",
              "       [ 1.08340225],\n",
              "       [-0.8237861 ],\n",
              "       [-0.28380656],\n",
              "       [ 0.53991552],\n",
              "       [-1.34530408],\n",
              "       [-0.4366622 ],\n",
              "       [ 0.58237542],\n",
              "       [ 0.57388344],\n",
              "       [ 3.21488928],\n",
              "       [ 3.25734919],\n",
              "       [-0.33143807],\n",
              "       [ 0.30214008],\n",
              "       [-0.85276923],\n",
              "       [ 1.11737018],\n",
              "       [ 0.14928443],\n",
              "       [-0.04603111],\n",
              "       [ 1.51649324],\n",
              "       [ 0.54320192],\n",
              "       [-1.55860564],\n",
              "       [ 0.83713483],\n",
              "       [-0.21587072],\n",
              "       [-0.25833062],\n",
              "       [-0.92919705],\n",
              "       [-0.41077015],\n",
              "       [-0.58951784],\n",
              "       [-0.98864091],\n",
              "       [-1.62553943],\n",
              "       [ 0.78618295],\n",
              "       [ 0.74500534],\n",
              "       [ 0.15777641],\n",
              "       [-1.48966775],\n",
              "       [-1.14149656],\n",
              "       [ 1.4060975 ],\n",
              "       [ 0.45052045],\n",
              "       [-1.4217319 ],\n",
              "       [-0.2243627 ],\n",
              "       [-0.06301507],\n",
              "       [ 0.11531651],\n",
              "       [ 0.99076324],\n",
              "       [ 3.1214775 ],\n",
              "       [-1.59157151],\n",
              "       [-1.69048609],\n",
              "       [-1.59157151],\n",
              "       [-0.02055517],\n",
              "       [ 1.59292107],\n",
              "       [-0.93757015],\n",
              "       [ 1.00697443],\n",
              "       [ 1.66085691],\n",
              "       [ 1.69482483],\n",
              "       [-0.66594567],\n",
              "       [-0.07999903],\n",
              "       [ 1.3211777 ],\n",
              "       [-0.521582  ],\n",
              "       [-0.93768903],\n",
              "       [ 0.94753057],\n",
              "       [-1.31982814],\n",
              "       [-0.49610606],\n",
              "       [-0.87449172],\n",
              "       [-1.30284418],\n",
              "       [ 1.17709427],\n",
              "       [ 0.57388344],\n",
              "       [-0.12245893],\n",
              "       [-0.87824517],\n",
              "       [ 1.48252532],\n",
              "       [-0.85276923],\n",
              "       [-1.04556266],\n",
              "       [-0.97165695],\n",
              "       [ 0.3785679 ],\n",
              "       [-1.54911161],\n",
              "       [-0.42817022],\n",
              "       [-0.58951784],\n",
              "       [ 1.60141305],\n",
              "       [-0.96316497],\n",
              "       [ 1.4485574 ],\n",
              "       [-0.93768903],\n",
              "       [ 0.48896364],\n",
              "       [ 1.52019575],\n",
              "       [ 1.6015659 ],\n",
              "       [-0.1819028 ],\n",
              "       [ 0.42479824],\n",
              "       [-0.29066808],\n",
              "       [-0.4366622 ],\n",
              "       [ 0.70451557],\n",
              "       [ 0.14079245],\n",
              "       [-1.15848052],\n",
              "       [-0.64706799],\n",
              "       [-0.06301507],\n",
              "       [-0.31777448],\n",
              "       [-0.62348577],\n",
              "       [ 0.8376953 ],\n",
              "       [-1.85482289],\n",
              "       [ 0.60005573],\n",
              "       [-1.77839507],\n",
              "       [-0.95467299],\n",
              "       [-0.05036202],\n",
              "       [-1.65101537],\n",
              "       [ 0.08984057],\n",
              "       [-0.21587072],\n",
              "       [ 0.6757872 ],\n",
              "       [ 0.7983095 ],\n",
              "       [-0.3942023 ],\n",
              "       [-1.05605025],\n",
              "       [-0.65745369],\n",
              "       [-0.92005119],\n",
              "       [-0.23285468],\n",
              "       [-0.70840557],\n",
              "       [ 0.26212587],\n",
              "       [-0.29229854]])"
            ]
          },
          "metadata": {},
          "execution_count": 23
        }
      ]
    },
    {
      "cell_type": "code",
      "source": [
        "plt.hist(y_train)\n",
        "plt.show()"
      ],
      "metadata": {
        "colab": {
          "base_uri": "https://localhost:8080/",
          "height": 267
        },
        "id": "CR5g5giIuvOb",
        "outputId": "85fffbd7-32bf-4451-8647-62323bb0c567"
      },
      "execution_count": null,
      "outputs": [
        {
          "output_type": "display_data",
          "data": {
            "text/plain": [
              "<Figure size 432x288 with 1 Axes>"
            ],
            "image/png": "[encoded data removed]"
          },
          "metadata": {
            "needs_background": "light"
          }
        }
      ]
    },
    {
      "cell_type": "code",
      "source": [
        "X_train.shape"
      ],
      "metadata": {
        "colab": {
          "base_uri": "https://localhost:8080/"
        },
        "id": "JO_1D1c1uVBe",
        "outputId": "7de1933d-b0a1-444d-f7dd-fcff9a67d907"
      },
      "execution_count": null,
      "outputs": [
        {
          "output_type": "execute_result",
          "data": {
            "text/plain": [
              "(6179, 4096)"
            ]
          },
          "metadata": {},
          "execution_count": 32
        }
      ]
    },
    {
      "cell_type": "code",
      "source": [
        "7700*0.85"
      ],
      "metadata": {
        "colab": {
          "base_uri": "https://localhost:8080/"
        },
        "id": "JxP0GBOXvB6b",
        "outputId": "1b081e44-a2ce-4e49-f4ce-df87d227a0ad"
      },
      "execution_count": null,
      "outputs": [
        {
          "output_type": "execute_result",
          "data": {
            "text/plain": [
              "6545.0"
            ]
          },
          "metadata": {},
          "execution_count": 33
        }
      ]
    },
    {
      "cell_type": "code",
      "source": [
        "feature_select = VarianceThreshold(threshold=0.05)\n",
        "X_train = feature_select.fit_transform(X_train)\n",
        "X_validation = feature_select.transform(X_validation)\n",
        "X_test = feature_select.transform(X_test)\n",
        "X_train.shape"
      ],
      "metadata": {
        "colab": {
          "base_uri": "https://localhost:8080/"
        },
        "id": "w3Z3Y9uPvS7Y",
        "outputId": "fafee25e-c80b-43cb-fbb2-113d7b17ee53"
      },
      "execution_count": null,
      "outputs": [
        {
          "output_type": "execute_result",
          "data": {
            "text/plain": [
              "(6179, 222)"
            ]
          },
          "metadata": {},
          "execution_count": 24
        }
      ]
    },
    {
      "cell_type": "code",
      "source": [
        "# Let's get those arrays transfered to the GPU memory as tensors\n",
        "device = torch.device(\"cuda:0\" if torch.cuda.is_available() else \"cpu\")\n",
        "print(device)\n",
        "# If you don't have a GPU, buy a graphics card. I have for a long time used a 1060 GTX, which is not that expensive anymore.\n",
        "X_train = torch.tensor(X_train, device=device).float()\n",
        "X_test = torch.tensor(X_test, device=device).float()\n",
        "X_validation = torch.tensor(X_validation, device=device).float()\n",
        "y_train = torch.tensor(y_train, device=device).float()\n",
        "y_test = torch.tensor(y_test, device=device).float()\n",
        "y_validation = torch.tensor(y_validation, device=device).float()\n",
        "X_train"
      ],
      "metadata": {
        "colab": {
          "base_uri": "https://localhost:8080/"
        },
        "id": "9nCxDw9kwEdP",
        "outputId": "e1d40343-17d6-4944-a58d-0ebb8965f3a9"
      },
      "execution_count": null,
      "outputs": [
        {
          "output_type": "stream",
          "name": "stdout",
          "text": [
            "cpu\n"
          ]
        },
        {
          "output_type": "execute_result",
          "data": {
            "text/plain": [
              "tensor([[0., 0., 1.,  ..., 0., 0., 0.],\n",
              "        [0., 0., 0.,  ..., 0., 0., 0.],\n",
              "        [0., 0., 0.,  ..., 1., 0., 0.],\n",
              "        ...,\n",
              "        [0., 0., 0.,  ..., 0., 0., 0.],\n",
              "        [0., 0., 0.,  ..., 0., 0., 0.],\n",
              "        [0., 0., 0.,  ..., 0., 1., 0.]])"
            ]
          },
          "metadata": {},
          "execution_count": 25
        }
      ]
    },
    {
      "cell_type": "code",
      "source": [
        "device = torch.device(\"cuda:0\" if torch.cuda.is_available() else \"cpu\")"
      ],
      "metadata": {
        "id": "-yEwGG9cw3Mu"
      },
      "execution_count": null,
      "outputs": []
    },
    {
      "cell_type": "code",
      "source": [
        "device"
      ],
      "metadata": {
        "colab": {
          "base_uri": "https://localhost:8080/"
        },
        "id": "T3LMYemfw_w3",
        "outputId": "7729dc19-88b2-4a08-9330-ea539e4fa3c9"
      },
      "execution_count": null,
      "outputs": [
        {
          "output_type": "execute_result",
          "data": {
            "text/plain": [
              "device(type='cpu')"
            ]
          },
          "metadata": {},
          "execution_count": 39
        }
      ]
    },
    {
      "cell_type": "code",
      "source": [
        "from torch.utils.data import TensorDataset\n",
        "train_dataset = TensorDataset(X_train, y_train)\n",
        "validation_dataset = TensorDataset(X_validation, y_validation)"
      ],
      "metadata": {
        "id": "2--1IvgqxAiX"
      },
      "execution_count": null,
      "outputs": []
    },
    {
      "cell_type": "code",
      "source": [
        "train_dataset"
      ],
      "metadata": {
        "colab": {
          "base_uri": "https://localhost:8080/"
        },
        "id": "fNIg1m5IyAuG",
        "outputId": "d23d37b6-31f6-4c1d-8591-1cebb370feec"
      },
      "execution_count": null,
      "outputs": [
        {
          "output_type": "execute_result",
          "data": {
            "text/plain": [
              "<torch.utils.data.dataset.TensorDataset at 0x7f4b40dc4190>"
            ]
          },
          "metadata": {},
          "execution_count": 27
        }
      ]
    },
    {
      "cell_type": "code",
      "source": [
        "train_loader = torch.utils.data.DataLoader(dataset=train_dataset,\n",
        "                                          batch_size=256,\n",
        "                                          shuffle=True)\n",
        "validation_loader = torch.utils.data.DataLoader(dataset=validation_dataset,\n",
        "                                          batch_size=256,\n",
        "                                          shuffle=False)"
      ],
      "metadata": {
        "id": "rgXY2SzAyCSf"
      },
      "execution_count": null,
      "outputs": []
    },
    {
      "cell_type": "code",
      "source": [
        "class Net(nn.Module):\n",
        "    def __init__(self, input_size, hidden_size, dropout_rate, out_size):\n",
        "        super(Net, self).__init__()\n",
        "        # Three layers and a output layer\n",
        "        self.fc1 = nn.Linear(input_size, hidden_size)  # 1st Full-Connected Layer\n",
        "        self.fc15 = nn.Linear(hidden_size, hidden_size)\n",
        "        self.fc2 = nn.Linear(hidden_size, hidden_size)\n",
        "        self.fc3 = nn.Linear(hidden_size, hidden_size)\n",
        "        self.fc_out = nn.Linear(hidden_size, out_size) # Output layer\n",
        "        #Layer normalization for faster training\n",
        "        self.ln1 = nn.LayerNorm(hidden_size)\n",
        "        self.ln15 = nn.LayerNorm(hidden_size)\n",
        "        self.ln2 = nn.LayerNorm(hidden_size)\n",
        "        self.ln3 = nn.LayerNorm(hidden_size)\n",
        "        #LeakyReLU will be used as the activation function\n",
        "        self.activation = nn.LeakyReLU()\n",
        "        #Dropout for regularization\n",
        "        self.dropout = nn.Dropout(dropout_rate)\n",
        "\n",
        "    def forward(self, x):# Forward pass: stacking each layer together\n",
        "        # Fully connected =&amp;gt; Layer Norm =&amp;gt; LeakyReLU =&amp;gt; Dropout times 3\n",
        "        out = self.fc1(x)\n",
        "        out = self.ln1(out)\n",
        "        out = self.activation(out)\n",
        "        out = self.dropout(out)\n",
        "        out = self.fc15(out)\n",
        "        out = self.ln15(out)\n",
        "        out = self.activation(out)\n",
        "        out = self.dropout(out)\n",
        "        out = self.fc2(out)\n",
        "        out = self.ln2(out)\n",
        "        out = self.activation(out)\n",
        "        out = self.dropout(out)\n",
        "        out = self.fc3(out)\n",
        "        out = self.ln3(out)\n",
        "        out = self.activation(out)\n",
        "        out = self.dropout(out)\n",
        "        #Final output layer\n",
        "        out = self.fc_out(out)\n",
        "        return out\n"
      ],
      "metadata": {
        "id": "LIbg4OB-lOX3"
      },
      "execution_count": null,
      "outputs": []
    },
    {
      "cell_type": "code",
      "source": [
        "#Defining the hyperparameters\n",
        "input_size = X_train.size()[-1]     # The input size should fit our fingerprint size\n",
        "hidden_size = 1024   # The size of the hidden layer\n",
        "dropout_rate = 0.80    # The dropout rate\n",
        "output_size = 1        # This is just a single task, so this will be one\n",
        "learning_rate = 0.001  # The learning rate for the optimizer\n",
        "model = Net(input_size, hidden_size, dropout_rate, output_size)"
      ],
      "metadata": {
        "id": "IJjLbyu_lcAJ"
      },
      "execution_count": null,
      "outputs": []
    },
    {
      "cell_type": "code",
      "source": [
        "criterion = nn.MSELoss()\n",
        "optimizer = torch.optim.Adam(model.parameters(), lr=learning_rate)"
      ],
      "metadata": {
        "id": "4s6ebquNnrdY"
      },
      "execution_count": null,
      "outputs": []
    },
    {
      "cell_type": "code",
      "source": [
        "model.train() #Ensure the network is in \"train\" mode with dropouts active\n",
        "epochs = 30\n",
        "for e in range(epochs):\n",
        "    running_loss = 0\n",
        "    for fps, labels in train_loader:\n",
        "        # Training pass\n",
        "        optimizer.zero_grad() # Initialize the gradients, which will be recorded during the forward pa\n",
        "\n",
        "        output = model(fps) #Forward pass of the mini-batch\n",
        "        loss = criterion(output, labels) #Computing the loss\n",
        "        loss.backward() # calculate the backward pass\n",
        "        optimizer.step() # Optimize the weights\n",
        "\n",
        "        running_loss += loss.item()\n",
        "    else:\n",
        "        if e%10 == 0:\n",
        "            validation_loss = torch.mean(( y_validation - model(X_validation) )**2).item()\n",
        "            print(\"Epoch: %3i Training loss: %0.2F Validation loss: %0.2F\"%(e,(running_loss/len(train_loader)), validation_loss))"
      ],
      "metadata": {
        "colab": {
          "base_uri": "https://localhost:8080/"
        },
        "id": "DccYjMCKoHQt",
        "outputId": "1a9852ab-8fce-42c0-c943-5d626e94ef14"
      },
      "execution_count": null,
      "outputs": [
        {
          "output_type": "stream",
          "name": "stdout",
          "text": [
            "Epoch:   0 Training loss: 0.38 Validation loss: 0.52\n",
            "Epoch:  10 Training loss: 0.35 Validation loss: 0.51\n",
            "Epoch:  20 Training loss: 0.34 Validation loss: 0.45\n"
          ]
        }
      ]
    },
    {
      "cell_type": "code",
      "source": [
        "model.eval() #Switch to evaluation mode, where dropout is switched off\n",
        "y_pred_train = model(X_train)\n",
        "y_pred_validation = model(X_validation)\n",
        "y_pred_test = model(X_test)"
      ],
      "metadata": {
        "id": "1NsUBxKQpEEm"
      },
      "execution_count": null,
      "outputs": []
    },
    {
      "cell_type": "code",
      "source": [
        "torch.mean(( y_train - y_pred_train )**2).item()"
      ],
      "metadata": {
        "colab": {
          "base_uri": "https://localhost:8080/"
        },
        "id": "5O14pigwqWjm",
        "outputId": "48dc74f6-dfb1-4b3d-e507-42a9b1e97fac"
      },
      "execution_count": null,
      "outputs": [
        {
          "output_type": "execute_result",
          "data": {
            "text/plain": [
              "0.21756023168563843"
            ]
          },
          "metadata": {},
          "execution_count": 35
        }
      ]
    },
    {
      "cell_type": "code",
      "source": [
        "torch.mean(( y_validation - y_pred_validation )**2).item()"
      ],
      "metadata": {
        "colab": {
          "base_uri": "https://localhost:8080/"
        },
        "id": "5gq7YkM8qcby",
        "outputId": "db9cb095-2221-4deb-fb80-3b330e7980ba"
      },
      "execution_count": null,
      "outputs": [
        {
          "output_type": "execute_result",
          "data": {
            "text/plain": [
              "0.4074147641658783"
            ]
          },
          "metadata": {},
          "execution_count": 36
        }
      ]
    },
    {
      "cell_type": "code",
      "source": [
        "torch.mean(( y_test - y_pred_test )**2).item()"
      ],
      "metadata": {
        "colab": {
          "base_uri": "https://localhost:8080/"
        },
        "id": "9FNwYrZRqfro",
        "outputId": "6a8274a1-11b3-47c9-d1b8-9b554e064565"
      },
      "execution_count": null,
      "outputs": [
        {
          "output_type": "execute_result",
          "data": {
            "text/plain": [
              "0.3908589780330658"
            ]
          },
          "metadata": {},
          "execution_count": 37
        }
      ]
    },
    {
      "cell_type": "code",
      "source": [
        "def flatten(tensor):\n",
        "    return tensor.cpu().detach().numpy().flatten()"
      ],
      "metadata": {
        "id": "_C23049kqjBf"
      },
      "execution_count": null,
      "outputs": []
    },
    {
      "cell_type": "code",
      "source": [
        "plt.scatter(flatten(y_pred_test), flatten(y_test), alpha=0.5, label=\"Test\")\n",
        "plt.scatter(flatten(y_pred_train), flatten(y_train), alpha=0.1, label=\"Train\")\n",
        "plt.legend()\n",
        "plt.plot([-1.5, 1.5], [-1.5,1.5], c=\"b\")"
      ],
      "metadata": {
        "colab": {
          "base_uri": "https://localhost:8080/",
          "height": 283
        },
        "id": "O8hJGm6bq5HI",
        "outputId": "f6d34cf6-c1d6-499b-c125-58229b96173d"
      },
      "execution_count": null,
      "outputs": [
        {
          "output_type": "execute_result",
          "data": {
            "text/plain": [
              "[<matplotlib.lines.Line2D at 0x7f4b40cda7d0>]"
            ]
          },
          "metadata": {},
          "execution_count": 39
        },
        {
          "output_type": "display_data",
          "data": {
            "text/plain": [
              "<Figure size 432x288 with 1 Axes>"
            ],
            "image/png": "[encoded data removed]"
          },
          "metadata": {
            "needs_background": "light"
          }
        }
      ]
    },
    {
      "cell_type": "code",
      "source": [
        "def predict_smiles(smiles):\n",
        "    fp = mol2fp(Chem.MolFromSmiles(smiles)).reshape(1,-1)\n",
        "    fp_filtered = feature_select.transform(fp)\n",
        "    fp_tensor = torch.tensor(fp_filtered, device=device).float()\n",
        "    prediction = model(fp_tensor)\n",
        "    #return prediction.cpu().detach().numpy()\n",
        "    pXC50 = scaler.inverse_transform(prediction.cpu().detach().numpy())\n",
        "    return pXC50[0][0]"
      ],
      "metadata": {
        "id": "qId4itjurIIL"
      },
      "execution_count": null,
      "outputs": []
    },
    {
      "cell_type": "code",
      "source": [
        "predict_smiles('Cc1ccc2c(N3CCNCC3)cc(F)cc2n1')"
      ],
      "metadata": {
        "colab": {
          "base_uri": "https://localhost:8080/"
        },
        "id": "Rzy9Ekf8r-Oi",
        "outputId": "2f8a1d2d-3c96-4323-f20c-f118638b0b97"
      },
      "execution_count": null,
      "outputs": [
        {
          "output_type": "execute_result",
          "data": {
            "text/plain": [
              "8.76441"
            ]
          },
          "metadata": {},
          "execution_count": 42
        }
      ]
    },
    {
      "cell_type": "code",
      "source": [
        "model"
      ],
      "metadata": {
        "colab": {
          "base_uri": "https://localhost:8080/"
        },
        "id": "bA0rdhG5sHHE",
        "outputId": "3cda5867-c1e2-411b-996a-6834651748e4"
      },
      "execution_count": null,
      "outputs": [
        {
          "output_type": "execute_result",
          "data": {
            "text/plain": [
              "Net(\n",
              "  (fc1): Linear(in_features=222, out_features=1024, bias=True)\n",
              "  (fc15): Linear(in_features=1024, out_features=1024, bias=True)\n",
              "  (fc2): Linear(in_features=1024, out_features=1024, bias=True)\n",
              "  (fc3): Linear(in_features=1024, out_features=1024, bias=True)\n",
              "  (fc_out): Linear(in_features=1024, out_features=1, bias=True)\n",
              "  (ln1): LayerNorm((1024,), eps=1e-05, elementwise_affine=True)\n",
              "  (ln15): LayerNorm((1024,), eps=1e-05, elementwise_affine=True)\n",
              "  (ln2): LayerNorm((1024,), eps=1e-05, elementwise_affine=True)\n",
              "  (ln3): LayerNorm((1024,), eps=1e-05, elementwise_affine=True)\n",
              "  (activation): LeakyReLU(negative_slope=0.01)\n",
              "  (dropout): Dropout(p=0.8, inplace=False)\n",
              ")"
            ]
          },
          "metadata": {},
          "execution_count": 40
        }
      ]
    },
    {
      "cell_type": "code",
      "source": [],
      "metadata": {
        "id": "NpcvY6uvsHfY"
      },
      "execution_count": null,
      "outputs": []
    }
  ]
}