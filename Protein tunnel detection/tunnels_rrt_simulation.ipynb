{
 "cells": [
  {
   "cell_type": "code",
   "execution_count": 2,
   "id": "3f2b047d",
   "metadata": {},
   "outputs": [],
   "source": [
    "# Import knihoven\n",
    "import numpy as np\n",
    "import matplotlib.pyplot as plt\n",
    "from matplotlib.patches import Polygon\n",
    "from random import random, uniform\n",
    "from scipy.spatial import ConvexHull\n",
    "from matplotlib import path"
   ]
  },
  {
   "cell_type": "code",
   "execution_count": 3,
   "id": "4a9368d9",
   "metadata": {},
   "outputs": [],
   "source": [
    "# Parametry simulace\n",
    "num_runs = 20\n",
    "max_nodes = 1000\n",
    "tunnel_detected_runs = []"
   ]
  },
  {
   "cell_type": "code",
   "execution_count": 4,
   "id": "6f56c38c",
   "metadata": {},
   "outputs": [],
   "source": [
    "# Definice tunelů (polygonů) - 3 únnikové cesty + větvení\n",
    "tunnels = [\n",
    "    np.array([[2, 2], [2, 8], [3, 8], [3, 2]]),   # Tunel 1\n",
    "    np.array([[3, 8], [7, 8], [7, 9], [3, 9]]),   # Tunel 2\n",
    "    np.array([[7, 8], [8, 8], [8, 2], [7, 2]]),   # Tunel 3\n",
    "    np.array([[3, 2], [7, 2], [7, 1], [3, 1]]),   # Tunel 4 (spodní)\n",
    "    np.array([[7, 2], [9, 2], [9, 0], [7, 0]]),   # Úniková cesta 1\n",
    "    np.array([[7, 8], [9, 8], [9, 10], [7, 10]]), # Úniková cesta 2\n",
    "    np.array([[2, 8], [0, 8], [0, 10], [2, 10]])  # Úniková cesta 3\n",
    "]"
   ]
  },
  {
   "cell_type": "code",
   "execution_count": 5,
   "id": "e96ad635",
   "metadata": {},
   "outputs": [],
   "source": [
    "# Aktivní (startovací) bod\n",
    "start = np.array([2.5, 2.5])"
   ]
  },
  {
   "cell_type": "code",
   "execution_count": 6,
   "id": "920b48fb",
   "metadata": {},
   "outputs": [],
   "source": [
    "# Kontrola prŭchodu tunelem\n",
    "def point_in_tunnel(point):\n",
    "    for idx, tunnel in enumerate(tunnels):\n",
    "        p = path.Path(tunnel)\n",
    "        if p.contains_point(point):\n",
    "            return idx\n",
    "    return -1"
   ]
  },
  {
   "cell_type": "code",
   "execution_count": 8,
   "id": "aa831a65",
   "metadata": {},
   "outputs": [],
   "source": [
    "# RRT algoritmus (zjednodušený)\n",
    "def run_rrt():\n",
    "    nodes = [start]\n",
    "    visited_tunnels = set()\n",
    "    for _ in range(max_nodes):\n",
    "        rand_point = np.array([uniform(0, 10), uniform(0, 10)])\n",
    "        dists = [np.linalg.norm(rand_point - node) for node in nodes]\n",
    "        nearest_node = nodes[np.argmin(dists)]\n",
    "        direction = rand_point - nearest_node\n",
    "        if np.linalg.norm(direction) == 0:\n",
    "            continue\n",
    "        new_node = nearest_node + direction / np.linalg.norm(direction) * 0.5\n",
    "        nodes.append(new_node)\n",
    "\n",
    "        tunnel_idx = point_in_tunnel(new_node)\n",
    "        if tunnel_idx >= 0:\n",
    "            visited_tunnels.add(tunnel_idx)\n",
    "\n",
    "    return visited_tunnels"
   ]
  },
  {
   "cell_type": "code",
   "execution_count": 9,
   "id": "9f3cfd09",
   "metadata": {},
   "outputs": [],
   "source": [
    "# Spuštění simulace\n",
    "for run in range(num_runs):\n",
    "    visited = run_rrt()\n",
    "    tunnel_detected_runs.append(visited)"
   ]
  },
  {
   "cell_type": "code",
   "execution_count": 10,
   "id": "dff2b118",
   "metadata": {},
   "outputs": [
    {
     "name": "stdout",
     "output_type": "stream",
     "text": [
      "Počet průběžných detekcí všech tunelů: 20 z 20\n"
     ]
    }
   ],
   "source": [
    "# Vyhodnocení - zjistíme, jestli byly všechny tunely detekovány\n",
    "all_tunnels = set(range(len(tunnels)))\n",
    "detected = [visited for visited in tunnel_detected_runs if all_tunnels.issubset(visited)]\n",
    "\n",
    "print(f\"Počet průběžných detekcí všech tunelů: {len(detected)} z {num_runs}\")"
   ]
  },
  {
   "cell_type": "code",
   "execution_count": 11,
   "id": "b7783e91",
   "metadata": {},
   "outputs": [
    {
     "data": {
      "image/png": "[encoded data removed]",
      "text/plain": [
       "<Figure size 1000x1000 with 1 Axes>"
      ]
     },
     "metadata": {},
     "output_type": "display_data"
    }
   ],
   "source": [
    "# Vizualizace posledního průběhu\n",
    "plt.figure(figsize=(10, 10))\n",
    "for tunnel in tunnels:\n",
    "    plt.gca().add_patch(Polygon(tunnel, closed=True, fill=True, alpha=0.3))\n",
    "plt.plot(start[0], start[1], 'ro', label='Start')\n",
    "plt.xlim(0, 10)\n",
    "plt.ylim(0, 10)\n",
    "plt.legend()\n",
    "plt.title('Schéma tunelů s aktivním bodem')\n",
    "plt.show()"
   ]
  }
 ],
 "metadata": {
  "kernelspec": {
   "display_name": "Python 3",
   "language": "python",
   "name": "python3"
  },
  "language_info": {
   "codemirror_mode": {
    "name": "ipython",
    "version": 3
   },
   "file_extension": ".py",
   "mimetype": "text/x-python",
   "name": "python",
   "nbconvert_exporter": "python",
   "pygments_lexer": "ipython3",
   "version": "3.10.0"
  }
 },
 "nbformat": 4,
 "nbformat_minor": 5
}
