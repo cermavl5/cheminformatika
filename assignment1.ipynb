{
 "cells": [
  {
   "cell_type": "code",
   "execution_count": 1,
   "metadata": {},
   "outputs": [],
   "source": [
    "# Import potřebných knihoven\n",
    "import pandas as pd\n",
    "import numpy as np\n",
    "import matplotlib.pyplot as plt\n",
    "from rdkit import Chem\n",
    "from rdkit.Chem import AllChem\n",
    "from rdkit.DataStructs import FingerprintSimilarity, DiceSimilarity, TanimotoSimilarity\n",
    "from rdkit import DataStructs"
   ]
  },
  {
   "cell_type": "code",
   "execution_count": 2,
   "metadata": {},
   "outputs": [],
   "source": [
    "# Cesta k souboru s daty\n",
    "soubor = \"compounds.csv\"\n",
    "\n",
    "# Načtení datasetu s oddělovačem ';'\n",
    "df = pd.read_csv(soubor, delimiter=';')\n",
    "\n",
    "# Výběr relevantních sloupců\n",
    "df = df[['name', 'smiles']].dropna()"
   ]
  },
  {
   "cell_type": "code",
   "execution_count": 3,
   "metadata": {},
   "outputs": [],
   "source": [
    "# Konverze SMILES na molekuly.\n",
    "# Každý SMILES řetězec převedeme na RDKit molekulární objekt.\n",
    "\n",
    "df['molecule'] = df['smiles'].apply(lambda x: Chem.MolFromSmiles(x))"
   ]
  },
  {
   "cell_type": "code",
   "execution_count": null,
   "metadata": {},
   "outputs": [],
   "source": [
    "# Výpočet molekulárních otisků.\n",
    "# Použijeme různé typy otisků pro každou molekulu.\n",
    "\n",
    "def get_fingerprints(mol):\n",
    "    if mol:\n",
    "        return {\n",
    "            'Morgan': AllChem.GetMorganFingerprintAsBitVect(mol, 2, nBits=2048),\n",
    "            'MACCS': Chem.rdMolDescriptors.GetMACCSKeysFingerprint(mol),\n",
    "        }\n",
    "    return None\n",
    "\n",
    "df['fingerprints'] = df['molecule'].apply(get_fingerprints)"
   ]
  },
  {
   "cell_type": "code",
   "execution_count": null,
   "metadata": {},
   "outputs": [],
   "source": [
    "# Výpočet podobností s referenční sloučeninou.\n",
    "# Jako referenční sloučeninu použijeme levodopu a spočítáme podobnost pomocí různých metrik.\n",
    "\n",
    "# SMILES pro levodopu\n",
    "levodopa_smiles = \"C1=CC(=C(C=C1CC(C(=O)O)N)O)O\"\n",
    "levodopa_mol = Chem.MolFromSmiles(levodopa_smiles)\n",
    "levodopa_fps = get_fingerprints(levodopa_mol)\n",
    "\n",
    "# Výpočet podobnosti pomocí různých metrik\n",
    "def compute_similarities(fps, ref_fps):\n",
    "    if fps:\n",
    "        return {\n",
    "            'Tanimoto_Morgan': DataStructs.FingerprintSimilarity(ref_fps['Morgan'], fps['Morgan']),\n",
    "            'Dice_Morgan': DataStructs.DiceSimilarity(ref_fps['Morgan'], fps['Morgan']),\n",
    "            'Tanimoto_MACCS': DataStructs.FingerprintSimilarity(ref_fps['MACCS'], fps['MACCS']),\n",
    "            'Dice_MACCS': DataStructs.DiceSimilarity(ref_fps['MACCS'], fps['MACCS']),\n",
    "        }\n",
    "    return None\n",
    "\n",
    "df['similarities'] = df['fingerprints'].apply(lambda x: compute_similarities(x, levodopa_fps))"
   ]
  },
  {
   "cell_type": "code",
   "execution_count": null,
   "metadata": {},
   "outputs": [],
   "source": [
    "# Seřazení a výběr nejlepších shod.\n",
    "# Seřadíme sloučeniny podle různých metrik podobnosti a zobrazíme tři nejpodobnější.\n",
    "\n",
    "def extract_similarity(df, metric):\n",
    "    return df.apply(lambda x: x['similarities'][metric] if x['similarities'] else None, axis=1)\n",
    "\n",
    "for metric in ['Tanimoto_Morgan', 'Dice_Morgan', 'Tanimoto_MACCS', 'Dice_MACCS']:\n",
    "    df[metric] = extract_similarity(df, metric)\n",
    "\n",
    "top_hits = df.sort_values(by='Tanimoto_Morgan', ascending=False).head(3)\n",
    "\n",
    "# Výpis výsledků\n",
    "print(\"Top 3 nejpodobnější sloučeniny k levodopě podle Tanimoto-Morgan:\")\n",
    "print(top_hits[['name', 'smiles', 'Tanimoto_Morgan']])"
   ]
  },
  {
   "cell_type": "code",
   "execution_count": null,
   "metadata": {},
   "outputs": [],
   "source": [
    "\"\"\"\n",
    "Grafické srovnání různých metrik podobnosti.\n",
    "Vytvoříme srovnávací graf pro různé metriky a různé otisky.\n",
    "\"\"\"\n",
    "\n",
    "fig, ax = plt.subplots(figsize=(10, 6))\n",
    "metrics = ['Tanimoto_Morgan', 'Dice_Morgan', 'Tanimoto_MACCS', 'Dice_MACCS']\n",
    "for metric in metrics:\n",
    "    ax.plot(df['name'], df[metric], marker='o', linestyle='-', label=metric)\n",
    "\n",
    "ax.set_xticklabels(df['name'], rotation=90)\n",
    "ax.set_ylabel(\"Podobnost\")\n",
    "ax.set_title(\"Porovnání různých metrik podobnosti\")\n",
    "ax.legend()\n",
    "plt.show()"
   ]
  }
 ],
 "metadata": {
  "kernelspec": {
   "display_name": "Python 3",
   "language": "python",
   "name": "python3"
  },
  "language_info": {
   "codemirror_mode": {
    "name": "ipython",
    "version": 3
   },
   "file_extension": ".py",
   "mimetype": "text/x-python",
   "name": "python",
   "nbconvert_exporter": "python",
   "pygments_lexer": "ipython3",
   "version": "3.10.0"
  }
 },
 "nbformat": 4,
 "nbformat_minor": 2
}
